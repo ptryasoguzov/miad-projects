{
  "nbformat": 4,
  "nbformat_minor": 0,
  "metadata": {
    "kernelspec": {
      "display_name": "Python 3",
      "language": "python",
      "name": "python3"
    },
    "language_info": {
      "codemirror_mode": {
        "name": "ipython",
        "version": 3
      },
      "file_extension": ".py",
      "mimetype": "text/x-python",
      "name": "python",
      "nbconvert_exporter": "python",
      "pygments_lexer": "ipython3",
      "version": "3.6.8"
    },
    "colab": {
      "name": "Neural networks approches.ipynb",
      "provenance": [],
      "collapsed_sections": [],
      "toc_visible": true
    },
    "accelerator": "GPU"
  },
  "cells": [
    {
      "cell_type": "code",
      "metadata": {
        "id": "HAXEXK9GDkUb"
      },
      "source": [
        "import pandas as pd\n",
        "import numpy as np\n",
        "import matplotlib.pyplot as plt\n",
        "from sklearn.model_selection import train_test_split\n",
        "import keras\n",
        "from keras.layers import Dense,BatchNormalization,Dropout, SimpleRNN, Embedding, LSTM, ConvLSTM2D, Flatten, BatchNormalization, Conv1D, Conv2D\n",
        "from keras.callbacks import EarlyStopping\n",
        "from keras.models import Sequential\n",
        "from keras.optimizers import Adam,SGD\n",
        "from sklearn.preprocessing import StandardScaler\n",
        "import seaborn as sns\n",
        "import datetime\n",
        "import tensorflow as tf\n",
        "from sklearn.metrics import roc_auc_score, precision_score, recall_score, f1_score\n",
        "from sklearn.metrics import classification_report"
      ],
      "execution_count": null,
      "outputs": []
    },
    {
      "cell_type": "code",
      "metadata": {
        "colab": {
          "base_uri": "https://localhost:8080/"
        },
        "id": "BLZl7fHbDmja",
        "outputId": "26f0e21c-f4a5-4f10-ed2a-ed773473b780"
      },
      "source": [
        "!wget https://archive.ics.uci.edu/ml/machine-learning-databases/00357/occupancy_data.zip\r\n",
        "!unzip occupancy_data.zip"
      ],
      "execution_count": null,
      "outputs": [
        {
          "output_type": "stream",
          "text": [
            "--2020-12-23 22:09:09--  https://archive.ics.uci.edu/ml/machine-learning-databases/00357/occupancy_data.zip\n",
            "Resolving archive.ics.uci.edu (archive.ics.uci.edu)... 128.195.10.252\n",
            "Connecting to archive.ics.uci.edu (archive.ics.uci.edu)|128.195.10.252|:443... connected.\n",
            "HTTP request sent, awaiting response... 200 OK\n",
            "Length: 335713 (328K) [application/x-httpd-php]\n",
            "Saving to: ‘occupancy_data.zip’\n",
            "\n",
            "occupancy_data.zip  100%[===================>] 327.84K  1.15MB/s    in 0.3s    \n",
            "\n",
            "2020-12-23 22:09:09 (1.15 MB/s) - ‘occupancy_data.zip’ saved [335713/335713]\n",
            "\n",
            "Archive:  occupancy_data.zip\n",
            "  inflating: datatest.txt            \n",
            "  inflating: datatest2.txt           \n",
            "  inflating: datatraining.txt        \n"
          ],
          "name": "stdout"
        }
      ]
    },
    {
      "cell_type": "markdown",
      "metadata": {
        "id": "uMaym6I9DkUc"
      },
      "source": [
        "## Load the dataset\r\n",
        "\r\n"
      ]
    },
    {
      "cell_type": "code",
      "metadata": {
        "colab": {
          "base_uri": "https://localhost:8080/",
          "height": 195
        },
        "id": "uuR9eD2cDkUd",
        "outputId": "260deb43-68e4-4e8e-8654-64c0f2cad126"
      },
      "source": [
        "data = pd.read_csv(\"datatraining.txt\",engine='python')\n",
        "data.head()"
      ],
      "execution_count": null,
      "outputs": [
        {
          "output_type": "execute_result",
          "data": {
            "text/html": [
              "<div>\n",
              "<style scoped>\n",
              "    .dataframe tbody tr th:only-of-type {\n",
              "        vertical-align: middle;\n",
              "    }\n",
              "\n",
              "    .dataframe tbody tr th {\n",
              "        vertical-align: top;\n",
              "    }\n",
              "\n",
              "    .dataframe thead th {\n",
              "        text-align: right;\n",
              "    }\n",
              "</style>\n",
              "<table border=\"1\" class=\"dataframe\">\n",
              "  <thead>\n",
              "    <tr style=\"text-align: right;\">\n",
              "      <th></th>\n",
              "      <th>date</th>\n",
              "      <th>Temperature</th>\n",
              "      <th>Humidity</th>\n",
              "      <th>Light</th>\n",
              "      <th>CO2</th>\n",
              "      <th>HumidityRatio</th>\n",
              "      <th>Occupancy</th>\n",
              "    </tr>\n",
              "  </thead>\n",
              "  <tbody>\n",
              "    <tr>\n",
              "      <th>1</th>\n",
              "      <td>2015-02-04 17:51:00</td>\n",
              "      <td>23.18</td>\n",
              "      <td>27.2720</td>\n",
              "      <td>426.0</td>\n",
              "      <td>721.25</td>\n",
              "      <td>0.004793</td>\n",
              "      <td>1</td>\n",
              "    </tr>\n",
              "    <tr>\n",
              "      <th>2</th>\n",
              "      <td>2015-02-04 17:51:59</td>\n",
              "      <td>23.15</td>\n",
              "      <td>27.2675</td>\n",
              "      <td>429.5</td>\n",
              "      <td>714.00</td>\n",
              "      <td>0.004783</td>\n",
              "      <td>1</td>\n",
              "    </tr>\n",
              "    <tr>\n",
              "      <th>3</th>\n",
              "      <td>2015-02-04 17:53:00</td>\n",
              "      <td>23.15</td>\n",
              "      <td>27.2450</td>\n",
              "      <td>426.0</td>\n",
              "      <td>713.50</td>\n",
              "      <td>0.004779</td>\n",
              "      <td>1</td>\n",
              "    </tr>\n",
              "    <tr>\n",
              "      <th>4</th>\n",
              "      <td>2015-02-04 17:54:00</td>\n",
              "      <td>23.15</td>\n",
              "      <td>27.2000</td>\n",
              "      <td>426.0</td>\n",
              "      <td>708.25</td>\n",
              "      <td>0.004772</td>\n",
              "      <td>1</td>\n",
              "    </tr>\n",
              "    <tr>\n",
              "      <th>5</th>\n",
              "      <td>2015-02-04 17:55:00</td>\n",
              "      <td>23.10</td>\n",
              "      <td>27.2000</td>\n",
              "      <td>426.0</td>\n",
              "      <td>704.50</td>\n",
              "      <td>0.004757</td>\n",
              "      <td>1</td>\n",
              "    </tr>\n",
              "  </tbody>\n",
              "</table>\n",
              "</div>"
            ],
            "text/plain": [
              "                  date  Temperature  Humidity  ...     CO2  HumidityRatio  Occupancy\n",
              "1  2015-02-04 17:51:00        23.18   27.2720  ...  721.25       0.004793          1\n",
              "2  2015-02-04 17:51:59        23.15   27.2675  ...  714.00       0.004783          1\n",
              "3  2015-02-04 17:53:00        23.15   27.2450  ...  713.50       0.004779          1\n",
              "4  2015-02-04 17:54:00        23.15   27.2000  ...  708.25       0.004772          1\n",
              "5  2015-02-04 17:55:00        23.10   27.2000  ...  704.50       0.004757          1\n",
              "\n",
              "[5 rows x 7 columns]"
            ]
          },
          "metadata": {
            "tags": []
          },
          "execution_count": 4
        }
      ]
    },
    {
      "cell_type": "code",
      "metadata": {
        "colab": {
          "base_uri": "https://localhost:8080/",
          "height": 284
        },
        "id": "W5wDnoWEDkUe",
        "outputId": "39be0028-c928-4933-b75e-9cd9e34e0dfc"
      },
      "source": [
        "data.describe()"
      ],
      "execution_count": null,
      "outputs": [
        {
          "output_type": "execute_result",
          "data": {
            "text/html": [
              "<div>\n",
              "<style scoped>\n",
              "    .dataframe tbody tr th:only-of-type {\n",
              "        vertical-align: middle;\n",
              "    }\n",
              "\n",
              "    .dataframe tbody tr th {\n",
              "        vertical-align: top;\n",
              "    }\n",
              "\n",
              "    .dataframe thead th {\n",
              "        text-align: right;\n",
              "    }\n",
              "</style>\n",
              "<table border=\"1\" class=\"dataframe\">\n",
              "  <thead>\n",
              "    <tr style=\"text-align: right;\">\n",
              "      <th></th>\n",
              "      <th>Temperature</th>\n",
              "      <th>Humidity</th>\n",
              "      <th>Light</th>\n",
              "      <th>CO2</th>\n",
              "      <th>HumidityRatio</th>\n",
              "      <th>Occupancy</th>\n",
              "    </tr>\n",
              "  </thead>\n",
              "  <tbody>\n",
              "    <tr>\n",
              "      <th>count</th>\n",
              "      <td>8143.000000</td>\n",
              "      <td>8143.000000</td>\n",
              "      <td>8143.000000</td>\n",
              "      <td>8143.000000</td>\n",
              "      <td>8143.000000</td>\n",
              "      <td>8143.000000</td>\n",
              "    </tr>\n",
              "    <tr>\n",
              "      <th>mean</th>\n",
              "      <td>20.619084</td>\n",
              "      <td>25.731507</td>\n",
              "      <td>119.519375</td>\n",
              "      <td>606.546243</td>\n",
              "      <td>0.003863</td>\n",
              "      <td>0.212330</td>\n",
              "    </tr>\n",
              "    <tr>\n",
              "      <th>std</th>\n",
              "      <td>1.016916</td>\n",
              "      <td>5.531211</td>\n",
              "      <td>194.755805</td>\n",
              "      <td>314.320877</td>\n",
              "      <td>0.000852</td>\n",
              "      <td>0.408982</td>\n",
              "    </tr>\n",
              "    <tr>\n",
              "      <th>min</th>\n",
              "      <td>19.000000</td>\n",
              "      <td>16.745000</td>\n",
              "      <td>0.000000</td>\n",
              "      <td>412.750000</td>\n",
              "      <td>0.002674</td>\n",
              "      <td>0.000000</td>\n",
              "    </tr>\n",
              "    <tr>\n",
              "      <th>25%</th>\n",
              "      <td>19.700000</td>\n",
              "      <td>20.200000</td>\n",
              "      <td>0.000000</td>\n",
              "      <td>439.000000</td>\n",
              "      <td>0.003078</td>\n",
              "      <td>0.000000</td>\n",
              "    </tr>\n",
              "    <tr>\n",
              "      <th>50%</th>\n",
              "      <td>20.390000</td>\n",
              "      <td>26.222500</td>\n",
              "      <td>0.000000</td>\n",
              "      <td>453.500000</td>\n",
              "      <td>0.003801</td>\n",
              "      <td>0.000000</td>\n",
              "    </tr>\n",
              "    <tr>\n",
              "      <th>75%</th>\n",
              "      <td>21.390000</td>\n",
              "      <td>30.533333</td>\n",
              "      <td>256.375000</td>\n",
              "      <td>638.833333</td>\n",
              "      <td>0.004352</td>\n",
              "      <td>0.000000</td>\n",
              "    </tr>\n",
              "    <tr>\n",
              "      <th>max</th>\n",
              "      <td>23.180000</td>\n",
              "      <td>39.117500</td>\n",
              "      <td>1546.333333</td>\n",
              "      <td>2028.500000</td>\n",
              "      <td>0.006476</td>\n",
              "      <td>1.000000</td>\n",
              "    </tr>\n",
              "  </tbody>\n",
              "</table>\n",
              "</div>"
            ],
            "text/plain": [
              "       Temperature     Humidity  ...  HumidityRatio    Occupancy\n",
              "count  8143.000000  8143.000000  ...    8143.000000  8143.000000\n",
              "mean     20.619084    25.731507  ...       0.003863     0.212330\n",
              "std       1.016916     5.531211  ...       0.000852     0.408982\n",
              "min      19.000000    16.745000  ...       0.002674     0.000000\n",
              "25%      19.700000    20.200000  ...       0.003078     0.000000\n",
              "50%      20.390000    26.222500  ...       0.003801     0.000000\n",
              "75%      21.390000    30.533333  ...       0.004352     0.000000\n",
              "max      23.180000    39.117500  ...       0.006476     1.000000\n",
              "\n",
              "[8 rows x 6 columns]"
            ]
          },
          "metadata": {
            "tags": []
          },
          "execution_count": 5
        }
      ]
    },
    {
      "cell_type": "markdown",
      "metadata": {
        "id": "Ss40PHR6DkUe"
      },
      "source": [
        "## Preproccesing"
      ]
    },
    {
      "cell_type": "code",
      "metadata": {
        "colab": {
          "base_uri": "https://localhost:8080/",
          "height": 225
        },
        "id": "7DttSqivDkUf",
        "outputId": "235e60ef-7008-4eec-8030-a1f07f9d331f"
      },
      "source": [
        "data['Date']=pd.to_datetime(data['date']).dt.date\n",
        "data['Time']=pd.to_datetime(data['date']).dt.time\n",
        "data.drop(columns='date',inplace=True)\n",
        "data=data.set_index(data['Date'])\n",
        "data.drop(columns='Date',inplace=True)\n",
        "data.head()"
      ],
      "execution_count": null,
      "outputs": [
        {
          "output_type": "execute_result",
          "data": {
            "text/html": [
              "<div>\n",
              "<style scoped>\n",
              "    .dataframe tbody tr th:only-of-type {\n",
              "        vertical-align: middle;\n",
              "    }\n",
              "\n",
              "    .dataframe tbody tr th {\n",
              "        vertical-align: top;\n",
              "    }\n",
              "\n",
              "    .dataframe thead th {\n",
              "        text-align: right;\n",
              "    }\n",
              "</style>\n",
              "<table border=\"1\" class=\"dataframe\">\n",
              "  <thead>\n",
              "    <tr style=\"text-align: right;\">\n",
              "      <th></th>\n",
              "      <th>Temperature</th>\n",
              "      <th>Humidity</th>\n",
              "      <th>Light</th>\n",
              "      <th>CO2</th>\n",
              "      <th>HumidityRatio</th>\n",
              "      <th>Occupancy</th>\n",
              "      <th>Time</th>\n",
              "    </tr>\n",
              "    <tr>\n",
              "      <th>Date</th>\n",
              "      <th></th>\n",
              "      <th></th>\n",
              "      <th></th>\n",
              "      <th></th>\n",
              "      <th></th>\n",
              "      <th></th>\n",
              "      <th></th>\n",
              "    </tr>\n",
              "  </thead>\n",
              "  <tbody>\n",
              "    <tr>\n",
              "      <th>2015-02-04</th>\n",
              "      <td>23.18</td>\n",
              "      <td>27.2720</td>\n",
              "      <td>426.0</td>\n",
              "      <td>721.25</td>\n",
              "      <td>0.004793</td>\n",
              "      <td>1</td>\n",
              "      <td>17:51:00</td>\n",
              "    </tr>\n",
              "    <tr>\n",
              "      <th>2015-02-04</th>\n",
              "      <td>23.15</td>\n",
              "      <td>27.2675</td>\n",
              "      <td>429.5</td>\n",
              "      <td>714.00</td>\n",
              "      <td>0.004783</td>\n",
              "      <td>1</td>\n",
              "      <td>17:51:59</td>\n",
              "    </tr>\n",
              "    <tr>\n",
              "      <th>2015-02-04</th>\n",
              "      <td>23.15</td>\n",
              "      <td>27.2450</td>\n",
              "      <td>426.0</td>\n",
              "      <td>713.50</td>\n",
              "      <td>0.004779</td>\n",
              "      <td>1</td>\n",
              "      <td>17:53:00</td>\n",
              "    </tr>\n",
              "    <tr>\n",
              "      <th>2015-02-04</th>\n",
              "      <td>23.15</td>\n",
              "      <td>27.2000</td>\n",
              "      <td>426.0</td>\n",
              "      <td>708.25</td>\n",
              "      <td>0.004772</td>\n",
              "      <td>1</td>\n",
              "      <td>17:54:00</td>\n",
              "    </tr>\n",
              "    <tr>\n",
              "      <th>2015-02-04</th>\n",
              "      <td>23.10</td>\n",
              "      <td>27.2000</td>\n",
              "      <td>426.0</td>\n",
              "      <td>704.50</td>\n",
              "      <td>0.004757</td>\n",
              "      <td>1</td>\n",
              "      <td>17:55:00</td>\n",
              "    </tr>\n",
              "  </tbody>\n",
              "</table>\n",
              "</div>"
            ],
            "text/plain": [
              "            Temperature  Humidity  Light  ...  HumidityRatio  Occupancy      Time\n",
              "Date                                      ...                                    \n",
              "2015-02-04        23.18   27.2720  426.0  ...       0.004793          1  17:51:00\n",
              "2015-02-04        23.15   27.2675  429.5  ...       0.004783          1  17:51:59\n",
              "2015-02-04        23.15   27.2450  426.0  ...       0.004779          1  17:53:00\n",
              "2015-02-04        23.15   27.2000  426.0  ...       0.004772          1  17:54:00\n",
              "2015-02-04        23.10   27.2000  426.0  ...       0.004757          1  17:55:00\n",
              "\n",
              "[5 rows x 7 columns]"
            ]
          },
          "metadata": {
            "tags": []
          },
          "execution_count": 6
        }
      ]
    },
    {
      "cell_type": "code",
      "metadata": {
        "colab": {
          "base_uri": "https://localhost:8080/"
        },
        "id": "dyuKbqGlDkUf",
        "outputId": "6d76b0f4-a658-4b02-8518-2c1a4c66dfe7"
      },
      "source": [
        "data.dtypes\n",
        "print(data.count())"
      ],
      "execution_count": null,
      "outputs": [
        {
          "output_type": "stream",
          "text": [
            "Temperature      8143\n",
            "Humidity         8143\n",
            "Light            8143\n",
            "CO2              8143\n",
            "HumidityRatio    8143\n",
            "Occupancy        8143\n",
            "Time             8143\n",
            "dtype: int64\n"
          ],
          "name": "stdout"
        }
      ]
    },
    {
      "cell_type": "code",
      "metadata": {
        "colab": {
          "base_uri": "https://localhost:8080/",
          "height": 321
        },
        "id": "yBg89dNPDkUf",
        "outputId": "b5071e69-8df0-427a-da3b-1f9d32b4bcc5"
      },
      "source": [
        "day = data.loc[datetime.date(year=2015,month=2,day=5)]\n",
        "day.plot('Time','Occupancy')\n",
        "plt.xticks(rotation=10)"
      ],
      "execution_count": null,
      "outputs": [
        {
          "output_type": "execute_result",
          "data": {
            "text/plain": [
              "(array([-20000.,      0.,  20000.,  40000.,  60000.,  80000., 100000.]),\n",
              " <a list of 7 Text major ticklabel objects>)"
            ]
          },
          "metadata": {
            "tags": []
          },
          "execution_count": 8
        },
        {
          "output_type": "display_data",
          "data": {
            "image/png": "[encoded data removed]",
            "text/plain": [
              "<Figure size 432x288 with 1 Axes>"
            ]
          },
          "metadata": {
            "tags": [],
            "needs_background": "light"
          }
        }
      ]
    },
    {
      "cell_type": "code",
      "metadata": {
        "colab": {
          "base_uri": "https://localhost:8080/",
          "height": 225
        },
        "id": "3cYiiMXoDkUg",
        "outputId": "5debd382-ba06-4dbe-b8d7-8833b0c258e3"
      },
      "source": [
        "columns_to_scale = ['Temperature','Humidity','Light','CO2','HumidityRatio']\n",
        "scaler = StandardScaler().fit(data[columns_to_scale].to_numpy())\n",
        "data.loc[:,columns_to_scale] = scaler.transform(data[columns_to_scale].to_numpy())\n",
        "data.head()"
      ],
      "execution_count": null,
      "outputs": [
        {
          "output_type": "execute_result",
          "data": {
            "text/html": [
              "<div>\n",
              "<style scoped>\n",
              "    .dataframe tbody tr th:only-of-type {\n",
              "        vertical-align: middle;\n",
              "    }\n",
              "\n",
              "    .dataframe tbody tr th {\n",
              "        vertical-align: top;\n",
              "    }\n",
              "\n",
              "    .dataframe thead th {\n",
              "        text-align: right;\n",
              "    }\n",
              "</style>\n",
              "<table border=\"1\" class=\"dataframe\">\n",
              "  <thead>\n",
              "    <tr style=\"text-align: right;\">\n",
              "      <th></th>\n",
              "      <th>Temperature</th>\n",
              "      <th>Humidity</th>\n",
              "      <th>Light</th>\n",
              "      <th>CO2</th>\n",
              "      <th>HumidityRatio</th>\n",
              "      <th>Occupancy</th>\n",
              "      <th>Time</th>\n",
              "    </tr>\n",
              "    <tr>\n",
              "      <th>Date</th>\n",
              "      <th></th>\n",
              "      <th></th>\n",
              "      <th></th>\n",
              "      <th></th>\n",
              "      <th></th>\n",
              "      <th></th>\n",
              "      <th></th>\n",
              "    </tr>\n",
              "  </thead>\n",
              "  <tbody>\n",
              "    <tr>\n",
              "      <th>2015-02-04</th>\n",
              "      <td>2.518470</td>\n",
              "      <td>0.278526</td>\n",
              "      <td>1.573763</td>\n",
              "      <td>0.364948</td>\n",
              "      <td>1.091757</td>\n",
              "      <td>1</td>\n",
              "      <td>17:51:00</td>\n",
              "    </tr>\n",
              "    <tr>\n",
              "      <th>2015-02-04</th>\n",
              "      <td>2.488967</td>\n",
              "      <td>0.277713</td>\n",
              "      <td>1.591735</td>\n",
              "      <td>0.341881</td>\n",
              "      <td>1.080555</td>\n",
              "      <td>1</td>\n",
              "      <td>17:51:59</td>\n",
              "    </tr>\n",
              "    <tr>\n",
              "      <th>2015-02-04</th>\n",
              "      <td>2.488967</td>\n",
              "      <td>0.273645</td>\n",
              "      <td>1.573763</td>\n",
              "      <td>0.340290</td>\n",
              "      <td>1.075888</td>\n",
              "      <td>1</td>\n",
              "      <td>17:53:00</td>\n",
              "    </tr>\n",
              "    <tr>\n",
              "      <th>2015-02-04</th>\n",
              "      <td>2.488967</td>\n",
              "      <td>0.265508</td>\n",
              "      <td>1.573763</td>\n",
              "      <td>0.323587</td>\n",
              "      <td>1.066555</td>\n",
              "      <td>1</td>\n",
              "      <td>17:54:00</td>\n",
              "    </tr>\n",
              "    <tr>\n",
              "      <th>2015-02-04</th>\n",
              "      <td>2.439796</td>\n",
              "      <td>0.265508</td>\n",
              "      <td>1.573763</td>\n",
              "      <td>0.311655</td>\n",
              "      <td>1.049523</td>\n",
              "      <td>1</td>\n",
              "      <td>17:55:00</td>\n",
              "    </tr>\n",
              "  </tbody>\n",
              "</table>\n",
              "</div>"
            ],
            "text/plain": [
              "            Temperature  Humidity     Light  ...  HumidityRatio  Occupancy      Time\n",
              "Date                                         ...                                    \n",
              "2015-02-04     2.518470  0.278526  1.573763  ...       1.091757          1  17:51:00\n",
              "2015-02-04     2.488967  0.277713  1.591735  ...       1.080555          1  17:51:59\n",
              "2015-02-04     2.488967  0.273645  1.573763  ...       1.075888          1  17:53:00\n",
              "2015-02-04     2.488967  0.265508  1.573763  ...       1.066555          1  17:54:00\n",
              "2015-02-04     2.439796  0.265508  1.573763  ...       1.049523          1  17:55:00\n",
              "\n",
              "[5 rows x 7 columns]"
            ]
          },
          "metadata": {
            "tags": []
          },
          "execution_count": 9
        }
      ]
    },
    {
      "cell_type": "code",
      "metadata": {
        "id": "Qp7708YuDkUg"
      },
      "source": [
        "training_data = data[['Temperature','Humidity','Light','CO2','HumidityRatio']]\n",
        "target = data[['Occupancy']]"
      ],
      "execution_count": null,
      "outputs": []
    },
    {
      "cell_type": "markdown",
      "metadata": {
        "id": "rVqdgosmcego"
      },
      "source": [
        "## Baseline"
      ]
    },
    {
      "cell_type": "code",
      "metadata": {
        "id": "WZe8G-npciYj"
      },
      "source": [
        "from sklearn.linear_model import LogisticRegression\r\n",
        "from sklearn.model_selection import GridSearchCV\r\n",
        "from sklearn.metrics import roc_auc_score\r\n",
        "param_grid = {'C': [0.01, 0.05, 0.1, 0.5, 1, 5, 10], 'penalty' : ['l1', 'l2']}\r\n",
        "estimator = LogisticRegression(class_weight='balanced')\r\n",
        "optimizer = GridSearchCV(estimator, param_grid)\r\n",
        "optimizer.fit(training_data, target)"
      ],
      "execution_count": null,
      "outputs": []
    },
    {
      "cell_type": "code",
      "metadata": {
        "colab": {
          "base_uri": "https://localhost:8080/"
        },
        "id": "684HyK1icih7",
        "outputId": "72df1e67-8c11-4a7c-80e7-4cd28fa92d04"
      },
      "source": [
        "best_params_lgr = optimizer.best_params_\r\n",
        "print(best_params_lgr)"
      ],
      "execution_count": null,
      "outputs": [
        {
          "output_type": "stream",
          "text": [
            "{'C': 1, 'penalty': 'l2'}\n"
          ],
          "name": "stdout"
        }
      ]
    },
    {
      "cell_type": "code",
      "metadata": {
        "colab": {
          "base_uri": "https://localhost:8080/"
        },
        "id": "On25J2weciki",
        "outputId": "8be57483-ee1b-4cef-f183-39967ca387f8"
      },
      "source": [
        "clf = LogisticRegression(C = 1, penalty = 'l2' )\r\n",
        "clf.fit(training_data, target)\r\n"
      ],
      "execution_count": null,
      "outputs": [
        {
          "output_type": "stream",
          "text": [
            "/usr/local/lib/python3.6/dist-packages/sklearn/utils/validation.py:760: DataConversionWarning: A column-vector y was passed when a 1d array was expected. Please change the shape of y to (n_samples, ), for example using ravel().\n",
            "  y = column_or_1d(y, warn=True)\n"
          ],
          "name": "stderr"
        },
        {
          "output_type": "execute_result",
          "data": {
            "text/plain": [
              "LogisticRegression(C=1, class_weight=None, dual=False, fit_intercept=True,\n",
              "                   intercept_scaling=1, l1_ratio=None, max_iter=100,\n",
              "                   multi_class='auto', n_jobs=None, penalty='l2',\n",
              "                   random_state=None, solver='lbfgs', tol=0.0001, verbose=0,\n",
              "                   warm_start=False)"
            ]
          },
          "metadata": {
            "tags": []
          },
          "execution_count": 14
        }
      ]
    },
    {
      "cell_type": "markdown",
      "metadata": {
        "id": "DNy776yJSVs1"
      },
      "source": [
        "## Fully-Connected"
      ]
    },
    {
      "cell_type": "code",
      "metadata": {
        "id": "OSni-oyxDkUh"
      },
      "source": [
        "from keras.utils.np_utils import to_categorical   \r\n",
        "\r\n",
        "X_train, y_train = training_data.to_numpy(), target.to_numpy()"
      ],
      "execution_count": null,
      "outputs": []
    },
    {
      "cell_type": "code",
      "metadata": {
        "id": "KtI-7eNJHjAN"
      },
      "source": [
        "y_train = to_categorical(y_train, num_classes=2)"
      ],
      "execution_count": null,
      "outputs": []
    },
    {
      "cell_type": "code",
      "metadata": {
        "colab": {
          "base_uri": "https://localhost:8080/"
        },
        "id": "vTqM-P3dPINu",
        "outputId": "06a64068-51d8-4a71-883a-3306356e1938"
      },
      "source": [
        "print(y_train.shape)\r\n",
        "print(X_train.shape)"
      ],
      "execution_count": null,
      "outputs": [
        {
          "output_type": "stream",
          "text": [
            "(8143, 2)\n",
            "(8143, 5)\n"
          ],
          "name": "stdout"
        }
      ]
    },
    {
      "cell_type": "code",
      "metadata": {
        "id": "KZ-4_b_QDkUh"
      },
      "source": [
        "def create_model_fc():\n",
        "    model = Sequential()\n",
        "    model.add(Dense(16,activation='relu',input_shape=(X_train.shape[1],)))\n",
        "    model.add(Dense(2,activation='softmax'))\n",
        "    model.compile(loss='binary_crossentropy',optimizer= Adam(lr=0.0001,decay=1e-6),metrics=['accuracy'])\n",
        "    model.summary()\n",
        "    return model"
      ],
      "execution_count": null,
      "outputs": []
    },
    {
      "cell_type": "code",
      "metadata": {
        "colab": {
          "base_uri": "https://localhost:8080/"
        },
        "id": "Zaa1ZVMqDkUh",
        "outputId": "612e0689-0ccf-40a5-aa6f-03aa6a46f6b1"
      },
      "source": [
        "%time\n",
        "\n",
        "model_fc = create_model_fc()\n",
        "history = model_fc.fit(X_train,y_train,epochs=30,batch_size=36,validation_split=0.2)"
      ],
      "execution_count": null,
      "outputs": [
        {
          "output_type": "stream",
          "text": [
            "CPU times: user 3 µs, sys: 0 ns, total: 3 µs\n",
            "Wall time: 6.68 µs\n",
            "Model: \"sequential\"\n",
            "_________________________________________________________________\n",
            "Layer (type)                 Output Shape              Param #   \n",
            "=================================================================\n",
            "dense (Dense)                (None, 16)                96        \n",
            "_________________________________________________________________\n",
            "dense_1 (Dense)              (None, 2)                 34        \n",
            "=================================================================\n",
            "Total params: 130\n",
            "Trainable params: 130\n",
            "Non-trainable params: 0\n",
            "_________________________________________________________________\n",
            "Epoch 1/30\n",
            "181/181 [==============================] - 3s 5ms/step - loss: 0.8307 - accuracy: 0.4737 - val_loss: 0.6010 - val_accuracy: 0.6851\n",
            "Epoch 2/30\n",
            "181/181 [==============================] - 1s 3ms/step - loss: 0.7527 - accuracy: 0.4810 - val_loss: 0.5485 - val_accuracy: 0.9951\n",
            "Epoch 3/30\n",
            "181/181 [==============================] - 1s 3ms/step - loss: 0.6810 - accuracy: 0.4946 - val_loss: 0.4974 - val_accuracy: 0.9957\n",
            "Epoch 4/30\n",
            "181/181 [==============================] - 0s 3ms/step - loss: 0.6190 - accuracy: 0.6667 - val_loss: 0.4496 - val_accuracy: 0.9963\n",
            "Epoch 5/30\n",
            "181/181 [==============================] - 1s 3ms/step - loss: 0.5483 - accuracy: 0.8786 - val_loss: 0.4066 - val_accuracy: 0.9963\n",
            "Epoch 6/30\n",
            "181/181 [==============================] - 1s 3ms/step - loss: 0.4871 - accuracy: 0.9135 - val_loss: 0.3677 - val_accuracy: 0.9963\n",
            "Epoch 7/30\n",
            "181/181 [==============================] - 1s 3ms/step - loss: 0.4374 - accuracy: 0.9262 - val_loss: 0.3329 - val_accuracy: 0.9963\n",
            "Epoch 8/30\n",
            "181/181 [==============================] - 0s 3ms/step - loss: 0.3853 - accuracy: 0.9421 - val_loss: 0.3020 - val_accuracy: 0.9957\n",
            "Epoch 9/30\n",
            "181/181 [==============================] - 1s 3ms/step - loss: 0.3483 - accuracy: 0.9479 - val_loss: 0.2742 - val_accuracy: 0.9932\n",
            "Epoch 10/30\n",
            "181/181 [==============================] - 1s 3ms/step - loss: 0.3124 - accuracy: 0.9501 - val_loss: 0.2500 - val_accuracy: 0.9890\n",
            "Epoch 11/30\n",
            "181/181 [==============================] - 0s 3ms/step - loss: 0.2792 - accuracy: 0.9573 - val_loss: 0.2286 - val_accuracy: 0.9865\n",
            "Epoch 12/30\n",
            "181/181 [==============================] - 0s 3ms/step - loss: 0.2511 - accuracy: 0.9651 - val_loss: 0.2098 - val_accuracy: 0.9859\n",
            "Epoch 13/30\n",
            "181/181 [==============================] - 0s 3ms/step - loss: 0.2272 - accuracy: 0.9705 - val_loss: 0.1932 - val_accuracy: 0.9810\n",
            "Epoch 14/30\n",
            "181/181 [==============================] - 1s 3ms/step - loss: 0.2054 - accuracy: 0.9770 - val_loss: 0.1787 - val_accuracy: 0.9779\n",
            "Epoch 15/30\n",
            "181/181 [==============================] - 0s 3ms/step - loss: 0.1900 - accuracy: 0.9828 - val_loss: 0.1661 - val_accuracy: 0.9761\n",
            "Epoch 16/30\n",
            "181/181 [==============================] - 0s 3ms/step - loss: 0.1782 - accuracy: 0.9841 - val_loss: 0.1551 - val_accuracy: 0.9730\n",
            "Epoch 17/30\n",
            "181/181 [==============================] - 0s 3ms/step - loss: 0.1664 - accuracy: 0.9868 - val_loss: 0.1454 - val_accuracy: 0.9675\n",
            "Epoch 18/30\n",
            "181/181 [==============================] - 0s 2ms/step - loss: 0.1507 - accuracy: 0.9862 - val_loss: 0.1371 - val_accuracy: 0.9644\n",
            "Epoch 19/30\n",
            "181/181 [==============================] - 0s 2ms/step - loss: 0.1447 - accuracy: 0.9835 - val_loss: 0.1299 - val_accuracy: 0.9644\n",
            "Epoch 20/30\n",
            "181/181 [==============================] - 0s 3ms/step - loss: 0.1298 - accuracy: 0.9860 - val_loss: 0.1234 - val_accuracy: 0.9644\n",
            "Epoch 21/30\n",
            "181/181 [==============================] - 0s 2ms/step - loss: 0.1193 - accuracy: 0.9882 - val_loss: 0.1181 - val_accuracy: 0.9644\n",
            "Epoch 22/30\n",
            "181/181 [==============================] - 0s 3ms/step - loss: 0.1153 - accuracy: 0.9870 - val_loss: 0.1135 - val_accuracy: 0.9638\n",
            "Epoch 23/30\n",
            "181/181 [==============================] - 0s 3ms/step - loss: 0.1118 - accuracy: 0.9853 - val_loss: 0.1095 - val_accuracy: 0.9638\n",
            "Epoch 24/30\n",
            "181/181 [==============================] - 1s 3ms/step - loss: 0.1050 - accuracy: 0.9852 - val_loss: 0.1063 - val_accuracy: 0.9632\n",
            "Epoch 25/30\n",
            "181/181 [==============================] - 1s 3ms/step - loss: 0.0978 - accuracy: 0.9865 - val_loss: 0.1036 - val_accuracy: 0.9632\n",
            "Epoch 26/30\n",
            "181/181 [==============================] - 0s 3ms/step - loss: 0.0954 - accuracy: 0.9863 - val_loss: 0.1016 - val_accuracy: 0.9632\n",
            "Epoch 27/30\n",
            "181/181 [==============================] - 0s 3ms/step - loss: 0.0903 - accuracy: 0.9870 - val_loss: 0.1001 - val_accuracy: 0.9632\n",
            "Epoch 28/30\n",
            "181/181 [==============================] - 0s 3ms/step - loss: 0.0951 - accuracy: 0.9829 - val_loss: 0.0991 - val_accuracy: 0.9632\n",
            "Epoch 29/30\n",
            "181/181 [==============================] - 0s 3ms/step - loss: 0.0839 - accuracy: 0.9869 - val_loss: 0.0985 - val_accuracy: 0.9632\n",
            "Epoch 30/30\n",
            "181/181 [==============================] - 0s 2ms/step - loss: 0.0841 - accuracy: 0.9855 - val_loss: 0.0985 - val_accuracy: 0.9632\n"
          ],
          "name": "stdout"
        }
      ]
    },
    {
      "cell_type": "code",
      "metadata": {
        "colab": {
          "base_uri": "https://localhost:8080/"
        },
        "id": "7nkwR-4ZHKLu",
        "outputId": "8c3637e5-94d1-475a-c001-2ffb2282b7cb"
      },
      "source": [
        "model_fc.summary()"
      ],
      "execution_count": null,
      "outputs": [
        {
          "output_type": "stream",
          "text": [
            "Model: \"sequential_20\"\n",
            "_________________________________________________________________\n",
            "Layer (type)                 Output Shape              Param #   \n",
            "=================================================================\n",
            "dense_38 (Dense)             (None, 16)                96        \n",
            "_________________________________________________________________\n",
            "dense_39 (Dense)             (None, 2)                 34        \n",
            "=================================================================\n",
            "Total params: 130\n",
            "Trainable params: 130\n",
            "Non-trainable params: 0\n",
            "_________________________________________________________________\n"
          ],
          "name": "stdout"
        }
      ]
    },
    {
      "cell_type": "code",
      "metadata": {
        "colab": {
          "base_uri": "https://localhost:8080/",
          "height": 265
        },
        "id": "pRBbJqFBDkUh",
        "outputId": "b40b1bba-da86-429e-ed01-b621016cf900"
      },
      "source": [
        "plt.plot(history.history['accuracy'],label=\"Training accuracy\")\n",
        "plt.plot(history.history['val_accuracy'], label = \"Validation accuracy\")\n",
        "plt.legend()\n",
        "plt.show()"
      ],
      "execution_count": null,
      "outputs": [
        {
          "output_type": "display_data",
          "data": {
            "image/png": "[encoded data removed]",
            "text/plain": [
              "<Figure size 432x288 with 1 Axes>"
            ]
          },
          "metadata": {
            "tags": [],
            "needs_background": "light"
          }
        }
      ]
    },
    {
      "cell_type": "code",
      "metadata": {
        "colab": {
          "base_uri": "https://localhost:8080/",
          "height": 265
        },
        "id": "iVXF5VBVDkUi",
        "outputId": "cd9d4f0b-24cb-48cd-c538-7aa3678c2c1c"
      },
      "source": [
        "plt.plot(history.history['loss'],label=\"Training loss\")\n",
        "plt.plot(history.history['val_loss'], label = \"Validation loss\")\n",
        "plt.legend()\n",
        "plt.show()"
      ],
      "execution_count": null,
      "outputs": [
        {
          "output_type": "display_data",
          "data": {
            "image/png": "[encoded data removed]",
            "text/plain": [
              "<Figure size 432x288 with 1 Axes>"
            ]
          },
          "metadata": {
            "tags": [],
            "needs_background": "light"
          }
        }
      ]
    },
    {
      "cell_type": "markdown",
      "metadata": {
        "id": "kRK0QHOSTf1g"
      },
      "source": [
        "## Simple RNN"
      ]
    },
    {
      "cell_type": "code",
      "metadata": {
        "id": "HV5G9Vl0lCV1"
      },
      "source": [
        "X_train, y_train = training_data.to_numpy(), target.to_numpy()"
      ],
      "execution_count": null,
      "outputs": []
    },
    {
      "cell_type": "code",
      "metadata": {
        "colab": {
          "base_uri": "https://localhost:8080/"
        },
        "id": "TY9AxKkzKvpV",
        "outputId": "7e0daceb-dd4e-43d6-f070-1b7b282944cc"
      },
      "source": [
        "print(X_train.shape)\r\n",
        "print(y_train.shape)"
      ],
      "execution_count": null,
      "outputs": [
        {
          "output_type": "stream",
          "text": [
            "(8143, 5)\n",
            "(8143, 1)\n"
          ],
          "name": "stdout"
        }
      ]
    },
    {
      "cell_type": "code",
      "metadata": {
        "id": "7nyz14Vvkzj5"
      },
      "source": [
        "from keras.utils.np_utils import to_categorical   \r\n",
        "\r\n",
        "def create_dataset(X, Y, look_back):\r\n",
        "    \"\"\"Convert an array of X, Y values into a dataset matrix for and LSTM\"\"\"\r\n",
        "    \r\n",
        "#    look_back = options.pop('look_back', None)\r\n",
        "    dataX, dataY = [], []\r\n",
        "    for i in range(len(X) - look_back):\r\n",
        "        a = X[i:(i+look_back)]\r\n",
        "        dataX.append(a)\r\n",
        "        dataY.append(Y[i + look_back])\r\n",
        "    dataY = to_categorical(dataY, num_classes=2)\r\n",
        "    \r\n",
        "    return np.array(dataX), np.array(dataY)"
      ],
      "execution_count": null,
      "outputs": []
    },
    {
      "cell_type": "code",
      "metadata": {
        "colab": {
          "base_uri": "https://localhost:8080/"
        },
        "id": "zoVADc1WmX57",
        "outputId": "0675ca6e-08bb-414a-e700-db8f00d06a4d"
      },
      "source": [
        "len(X_train)"
      ],
      "execution_count": null,
      "outputs": [
        {
          "output_type": "execute_result",
          "data": {
            "text/plain": [
              "8143"
            ]
          },
          "metadata": {
            "tags": []
          },
          "execution_count": 614
        }
      ]
    },
    {
      "cell_type": "code",
      "metadata": {
        "id": "NF5PSkmwlg2F"
      },
      "source": [
        "look_back = 30\r\n",
        "\r\n",
        "X_train, y_train = create_dataset(X_train, y_train, look_back)\r\n"
      ],
      "execution_count": null,
      "outputs": []
    },
    {
      "cell_type": "code",
      "metadata": {
        "colab": {
          "base_uri": "https://localhost:8080/"
        },
        "id": "bgrZElfVoBy8",
        "outputId": "5c92afde-c9d5-461d-c1e0-882461db3b44"
      },
      "source": [
        "print(X_train.shape)\r\n",
        "print(y_train.shape)"
      ],
      "execution_count": null,
      "outputs": [
        {
          "output_type": "stream",
          "text": [
            "(8113, 30, 5)\n",
            "(8113, 2)\n"
          ],
          "name": "stdout"
        }
      ]
    },
    {
      "cell_type": "code",
      "metadata": {
        "id": "mc7TOdZzKqUw"
      },
      "source": [
        "\r\n",
        "def create_modelRNN():\r\n",
        "    model = Sequential()\r\n",
        "    model.add(SimpleRNN(16, input_shape=[ look_back, dim_input]))\r\n",
        "    model.add(Dense(16,activation='relu',input_shape=(X_train.shape[1],)))\r\n",
        "    model.add(Dropout(dropout))\r\n",
        "    model.add(Dense(2,  activation='softmax'))\r\n",
        "    model.compile(loss='binary_crossentropy',optimizer= Adam(lr=0.0001,decay=1e-6),metrics=['accuracy'])\r\n",
        "    model.summary()\r\n",
        "    return model"
      ],
      "execution_count": null,
      "outputs": []
    },
    {
      "cell_type": "code",
      "metadata": {
        "colab": {
          "base_uri": "https://localhost:8080/"
        },
        "id": "Q7QEHLg8L3MB",
        "outputId": "2e516711-8f75-44e8-87ec-9a45d80c68de"
      },
      "source": [
        "%time\r\n",
        "\r\n",
        "batch_size = 16\r\n",
        "dropout = 0.4\r\n",
        "\r\n",
        "dim_input = X_train.shape[2]\r\n",
        "dim_output = y_train.shape[1]\r\n",
        "model_rnn = create_modelRNN()\r\n",
        "history = model_rnn.fit(X_train, y_train, epochs=15, batch_size=batch_size, validation_split=0.2)"
      ],
      "execution_count": null,
      "outputs": [
        {
          "output_type": "stream",
          "text": [
            "CPU times: user 4 µs, sys: 0 ns, total: 4 µs\n",
            "Wall time: 8.11 µs\n",
            "Model: \"sequential_87\"\n",
            "_________________________________________________________________\n",
            "Layer (type)                 Output Shape              Param #   \n",
            "=================================================================\n",
            "simple_rnn_8 (SimpleRNN)     (None, 16)                352       \n",
            "_________________________________________________________________\n",
            "dense_166 (Dense)            (None, 16)                272       \n",
            "_________________________________________________________________\n",
            "dropout_58 (Dropout)         (None, 16)                0         \n",
            "_________________________________________________________________\n",
            "dense_167 (Dense)            (None, 2)                 34        \n",
            "=================================================================\n",
            "Total params: 658\n",
            "Trainable params: 658\n",
            "Non-trainable params: 0\n",
            "_________________________________________________________________\n",
            "Epoch 1/15\n",
            "406/406 [==============================] - 11s 26ms/step - loss: 0.8402 - accuracy: 0.3027 - val_loss: 0.7601 - val_accuracy: 0.3309\n",
            "Epoch 2/15\n",
            "406/406 [==============================] - 10s 24ms/step - loss: 0.5983 - accuracy: 0.7163 - val_loss: 0.6516 - val_accuracy: 0.6771\n",
            "Epoch 3/15\n",
            "406/406 [==============================] - 10s 24ms/step - loss: 0.4285 - accuracy: 0.9190 - val_loss: 0.5381 - val_accuracy: 0.9125\n",
            "Epoch 4/15\n",
            "406/406 [==============================] - 10s 23ms/step - loss: 0.2854 - accuracy: 0.9526 - val_loss: 0.3928 - val_accuracy: 0.9094\n",
            "Epoch 5/15\n",
            "406/406 [==============================] - 9s 23ms/step - loss: 0.2059 - accuracy: 0.9732 - val_loss: 0.2937 - val_accuracy: 0.9532\n",
            "Epoch 6/15\n",
            "406/406 [==============================] - 10s 24ms/step - loss: 0.1574 - accuracy: 0.9805 - val_loss: 0.2460 - val_accuracy: 0.9587\n",
            "Epoch 7/15\n",
            "406/406 [==============================] - 10s 25ms/step - loss: 0.1347 - accuracy: 0.9798 - val_loss: 0.2127 - val_accuracy: 0.9643\n",
            "Epoch 8/15\n",
            "406/406 [==============================] - 10s 25ms/step - loss: 0.1219 - accuracy: 0.9771 - val_loss: 0.1904 - val_accuracy: 0.9741\n",
            "Epoch 9/15\n",
            "406/406 [==============================] - 9s 23ms/step - loss: 0.0988 - accuracy: 0.9812 - val_loss: 0.1783 - val_accuracy: 0.9778\n",
            "Epoch 10/15\n",
            "406/406 [==============================] - 10s 25ms/step - loss: 0.0904 - accuracy: 0.9815 - val_loss: 0.1646 - val_accuracy: 0.9914\n",
            "Epoch 11/15\n",
            "406/406 [==============================] - 10s 24ms/step - loss: 0.0875 - accuracy: 0.9802 - val_loss: 0.1555 - val_accuracy: 0.9914\n",
            "Epoch 12/15\n",
            "406/406 [==============================] - 9s 23ms/step - loss: 0.0886 - accuracy: 0.9764 - val_loss: 0.1430 - val_accuracy: 0.9914\n",
            "Epoch 13/15\n",
            "406/406 [==============================] - 10s 24ms/step - loss: 0.0784 - accuracy: 0.9812 - val_loss: 0.1353 - val_accuracy: 0.9914\n",
            "Epoch 14/15\n",
            "406/406 [==============================] - 10s 23ms/step - loss: 0.0790 - accuracy: 0.9815 - val_loss: 0.1296 - val_accuracy: 0.9914\n",
            "Epoch 15/15\n",
            "406/406 [==============================] - 10s 24ms/step - loss: 0.0690 - accuracy: 0.9855 - val_loss: 0.1291 - val_accuracy: 0.9914\n"
          ],
          "name": "stdout"
        }
      ]
    },
    {
      "cell_type": "code",
      "metadata": {
        "colab": {
          "base_uri": "https://localhost:8080/",
          "height": 265
        },
        "id": "ve4-0A-01pcq",
        "outputId": "aaafb6cb-9875-427c-8e61-c088eb498f8c"
      },
      "source": [
        "plt.plot(history.history['accuracy'],label=\"Training accuracy\")\r\n",
        "plt.plot(history.history['val_accuracy'], label = \"Validation accuracy\")\r\n",
        "plt.legend()\r\n",
        "plt.show()"
      ],
      "execution_count": null,
      "outputs": [
        {
          "output_type": "display_data",
          "data": {
            "image/png": "[encoded data removed]",
            "text/plain": [
              "<Figure size 432x288 with 1 Axes>"
            ]
          },
          "metadata": {
            "tags": [],
            "needs_background": "light"
          }
        }
      ]
    },
    {
      "cell_type": "code",
      "metadata": {
        "colab": {
          "base_uri": "https://localhost:8080/",
          "height": 265
        },
        "id": "gZN4pno21soq",
        "outputId": "f01c3b37-7956-4563-945e-e488d1d4865f"
      },
      "source": [
        "plt.plot(history.history['loss'],label=\"Training loss\")\r\n",
        "plt.plot(history.history['val_loss'], label = \"Validation loss\")\r\n",
        "plt.legend()\r\n",
        "plt.show()"
      ],
      "execution_count": null,
      "outputs": [
        {
          "output_type": "display_data",
          "data": {
            "image/png": "[encoded data removed]",
            "text/plain": [
              "<Figure size 432x288 with 1 Axes>"
            ]
          },
          "metadata": {
            "tags": [],
            "needs_background": "light"
          }
        }
      ]
    },
    {
      "cell_type": "markdown",
      "metadata": {
        "id": "fJlB7lxhUcBS"
      },
      "source": [
        "## LSTM"
      ]
    },
    {
      "cell_type": "code",
      "metadata": {
        "id": "SO0ls_ouoUfC"
      },
      "source": [
        "X_train, y_train = training_data.to_numpy(), target.to_numpy()"
      ],
      "execution_count": null,
      "outputs": []
    },
    {
      "cell_type": "code",
      "metadata": {
        "id": "spsJj87ooLWc"
      },
      "source": [
        "look_back = 30\r\n",
        "\r\n",
        "X_train, y_train = create_dataset(X_train, y_train, look_back)"
      ],
      "execution_count": null,
      "outputs": []
    },
    {
      "cell_type": "code",
      "metadata": {
        "colab": {
          "base_uri": "https://localhost:8080/"
        },
        "id": "DAtmuQaFH-Tl",
        "outputId": "9b7e7232-4144-4200-87b6-ac88f3626ae3"
      },
      "source": [
        "print(X_train.shape)\r\n",
        "print(y_train.shape)"
      ],
      "execution_count": null,
      "outputs": [
        {
          "output_type": "stream",
          "text": [
            "(8113, 30, 5)\n",
            "(8113, 2)\n"
          ],
          "name": "stdout"
        }
      ]
    },
    {
      "cell_type": "code",
      "metadata": {
        "id": "Cc0TYamJqrYa"
      },
      "source": [
        "def create_modelLSTM():\r\n",
        "    model = Sequential()\r\n",
        "    model.add(LSTM(16, input_shape=[ look_back, dim_input]))\r\n",
        "    model.add(Dense(16,activation='relu',input_shape=(X_train.shape[1],)))\r\n",
        "    model.add(Dropout(dropout))\r\n",
        "    model.add(Dense(2,  activation='softmax'))\r\n",
        "    model.compile(loss='binary_crossentropy',optimizer= Adam(lr=0.0001,decay=1e-6),metrics=['accuracy'])\r\n",
        "    model.summary()\r\n",
        "    return model"
      ],
      "execution_count": null,
      "outputs": []
    },
    {
      "cell_type": "code",
      "metadata": {
        "colab": {
          "base_uri": "https://localhost:8080/"
        },
        "id": "oviWpTILUkkG",
        "outputId": "33a7ee8c-f061-4e81-b844-51a06bc9c6f7"
      },
      "source": [
        "%%time\r\n",
        "\r\n",
        "batch_size = 32\r\n",
        "dropout = 0.4\r\n",
        "\r\n",
        "dim_input = X_train.shape[2]\r\n",
        "model_lstm = create_modelLSTM()\r\n",
        "history = model_lstm.fit(X_train, y_train, epochs=10, batch_size=batch_size, validation_split=0.2)"
      ],
      "execution_count": null,
      "outputs": [
        {
          "output_type": "stream",
          "text": [
            "Model: \"sequential_78\"\n",
            "_________________________________________________________________\n",
            "Layer (type)                 Output Shape              Param #   \n",
            "=================================================================\n",
            "lstm_47 (LSTM)               (None, 16)                1408      \n",
            "_________________________________________________________________\n",
            "dense_150 (Dense)            (None, 16)                272       \n",
            "_________________________________________________________________\n",
            "dropout_52 (Dropout)         (None, 16)                0         \n",
            "_________________________________________________________________\n",
            "dense_151 (Dense)            (None, 2)                 34        \n",
            "=================================================================\n",
            "Total params: 1,714\n",
            "Trainable params: 1,714\n",
            "Non-trainable params: 0\n",
            "_________________________________________________________________\n",
            "Epoch 1/10\n",
            "203/203 [==============================] - 3s 7ms/step - loss: 0.6917 - accuracy: 0.5803 - val_loss: 0.6521 - val_accuracy: 0.4442\n",
            "Epoch 2/10\n",
            "203/203 [==============================] - 1s 5ms/step - loss: 0.5389 - accuracy: 0.8705 - val_loss: 0.5694 - val_accuracy: 0.8139\n",
            "Epoch 3/10\n",
            "203/203 [==============================] - 1s 5ms/step - loss: 0.4056 - accuracy: 0.9285 - val_loss: 0.4688 - val_accuracy: 0.8509\n",
            "Epoch 4/10\n",
            "203/203 [==============================] - 1s 6ms/step - loss: 0.2960 - accuracy: 0.9496 - val_loss: 0.3912 - val_accuracy: 0.8558\n",
            "Epoch 5/10\n",
            "203/203 [==============================] - 1s 5ms/step - loss: 0.2221 - accuracy: 0.9693 - val_loss: 0.3368 - val_accuracy: 0.8632\n",
            "Epoch 6/10\n",
            "203/203 [==============================] - 1s 5ms/step - loss: 0.1833 - accuracy: 0.9718 - val_loss: 0.2992 - val_accuracy: 0.8706\n",
            "Epoch 7/10\n",
            "203/203 [==============================] - 1s 5ms/step - loss: 0.1589 - accuracy: 0.9740 - val_loss: 0.2728 - val_accuracy: 0.8768\n",
            "Epoch 8/10\n",
            "203/203 [==============================] - 1s 5ms/step - loss: 0.1350 - accuracy: 0.9746 - val_loss: 0.2536 - val_accuracy: 0.8829\n",
            "Epoch 9/10\n",
            "203/203 [==============================] - 1s 5ms/step - loss: 0.1167 - accuracy: 0.9802 - val_loss: 0.2375 - val_accuracy: 0.8891\n",
            "Epoch 10/10\n",
            "203/203 [==============================] - 1s 5ms/step - loss: 0.1055 - accuracy: 0.9791 - val_loss: 0.2243 - val_accuracy: 0.8959\n",
            "CPU times: user 15.3 s, sys: 1.06 s, total: 16.3 s\n",
            "Wall time: 12.9 s\n"
          ],
          "name": "stdout"
        }
      ]
    },
    {
      "cell_type": "code",
      "metadata": {
        "colab": {
          "base_uri": "https://localhost:8080/",
          "height": 267
        },
        "id": "KG7s5yrUU0Qm",
        "outputId": "f83c6c54-e864-4947-cd2a-338012eace81"
      },
      "source": [
        "plt.plot(history.history['accuracy'],label=\"Training accuracy\")\r\n",
        "plt.plot(history.history['val_accuracy'], label = \"Validation accuracy\")\r\n",
        "plt.legend()\r\n",
        "plt.show()"
      ],
      "execution_count": null,
      "outputs": [
        {
          "output_type": "display_data",
          "data": {
            "image/png": "[encoded data removed]",
            "text/plain": [
              "<Figure size 432x288 with 1 Axes>"
            ]
          },
          "metadata": {
            "tags": [],
            "needs_background": "light"
          }
        }
      ]
    },
    {
      "cell_type": "code",
      "metadata": {
        "colab": {
          "base_uri": "https://localhost:8080/",
          "height": 265
        },
        "id": "b8aQK1vuU0wA",
        "outputId": "859a6a2c-9f53-46b2-e27a-cf16568526d7"
      },
      "source": [
        "plt.plot(history.history['loss'],label=\"Training loss\")\r\n",
        "plt.plot(history.history['val_loss'], label = \"Validation loss\")\r\n",
        "plt.legend()\r\n",
        "plt.show()"
      ],
      "execution_count": null,
      "outputs": [
        {
          "output_type": "display_data",
          "data": {
            "image/png": "[encoded data removed]",
            "text/plain": [
              "<Figure size 432x288 with 1 Axes>"
            ]
          },
          "metadata": {
            "tags": [],
            "needs_background": "light"
          }
        }
      ]
    },
    {
      "cell_type": "markdown",
      "metadata": {
        "id": "V8CVJjumbUeS"
      },
      "source": [
        "## GRU"
      ]
    },
    {
      "cell_type": "code",
      "metadata": {
        "id": "V8i99YkZbXoc"
      },
      "source": [
        "from keras import layers\r\n",
        "\r\n",
        "def create_modelGRU():\r\n",
        "    model = Sequential()\r\n",
        "    model.add(layers.GRU(16, input_shape=[ look_back, dim_input]))\r\n",
        "    model.add(Dense(16,activation='relu',input_shape=(X_train.shape[1],)))\r\n",
        "    model.add(Dropout(dropout))\r\n",
        "    model.add(Dense(2,  activation='softmax'))\r\n",
        "    model.compile(loss='binary_crossentropy',optimizer= Adam(lr=0.0001,decay=1e-6),metrics=['accuracy'])\r\n",
        "    model.summary()\r\n",
        "    return model"
      ],
      "execution_count": null,
      "outputs": []
    },
    {
      "cell_type": "code",
      "metadata": {
        "colab": {
          "base_uri": "https://localhost:8080/"
        },
        "id": "GOIMvQgMbXoc",
        "outputId": "d10b823c-7bc5-4c62-ad3f-db0242281ea8"
      },
      "source": [
        "%%time\r\n",
        "\r\n",
        "batch_size = 16\r\n",
        "dropout = 0.4\r\n",
        "\r\n",
        "dim_input = X_train.shape[2]\r\n",
        "dim_output = y_train.shape[1]\r\n",
        "model_gru = create_modelGRU()\r\n",
        "history = model_gru.fit(X_train, y_train, epochs=10, batch_size=batch_size, validation_split=0.2)"
      ],
      "execution_count": null,
      "outputs": [
        {
          "output_type": "stream",
          "text": [
            "Model: \"sequential_83\"\n",
            "_________________________________________________________________\n",
            "Layer (type)                 Output Shape              Param #   \n",
            "=================================================================\n",
            "gru_4 (GRU)                  (None, 16)                1104      \n",
            "_________________________________________________________________\n",
            "dense_158 (Dense)            (None, 16)                272       \n",
            "_________________________________________________________________\n",
            "dropout_56 (Dropout)         (None, 16)                0         \n",
            "_________________________________________________________________\n",
            "dense_159 (Dense)            (None, 2)                 34        \n",
            "=================================================================\n",
            "Total params: 1,410\n",
            "Trainable params: 1,410\n",
            "Non-trainable params: 0\n",
            "_________________________________________________________________\n",
            "Epoch 1/10\n",
            "406/406 [==============================] - 4s 5ms/step - loss: 0.7559 - accuracy: 0.3525 - val_loss: 0.5370 - val_accuracy: 0.8805\n",
            "Epoch 2/10\n",
            "406/406 [==============================] - 2s 5ms/step - loss: 0.5287 - accuracy: 0.9301 - val_loss: 0.3875 - val_accuracy: 0.8866\n",
            "Epoch 3/10\n",
            "406/406 [==============================] - 2s 5ms/step - loss: 0.2729 - accuracy: 0.9775 - val_loss: 0.2690 - val_accuracy: 0.8879\n",
            "Epoch 4/10\n",
            "406/406 [==============================] - 2s 5ms/step - loss: 0.1527 - accuracy: 0.9836 - val_loss: 0.2324 - val_accuracy: 0.8891\n",
            "Epoch 5/10\n",
            "406/406 [==============================] - 2s 5ms/step - loss: 0.1235 - accuracy: 0.9821 - val_loss: 0.2141 - val_accuracy: 0.8940\n",
            "Epoch 6/10\n",
            "406/406 [==============================] - 2s 5ms/step - loss: 0.1062 - accuracy: 0.9845 - val_loss: 0.2025 - val_accuracy: 0.8983\n",
            "Epoch 7/10\n",
            "406/406 [==============================] - 2s 5ms/step - loss: 0.0901 - accuracy: 0.9850 - val_loss: 0.1945 - val_accuracy: 0.9014\n",
            "Epoch 8/10\n",
            "406/406 [==============================] - 2s 5ms/step - loss: 0.0910 - accuracy: 0.9828 - val_loss: 0.1871 - val_accuracy: 0.9039\n",
            "Epoch 9/10\n",
            "406/406 [==============================] - 2s 5ms/step - loss: 0.0784 - accuracy: 0.9833 - val_loss: 0.1812 - val_accuracy: 0.9088\n",
            "Epoch 10/10\n",
            "406/406 [==============================] - 2s 5ms/step - loss: 0.0729 - accuracy: 0.9857 - val_loss: 0.1799 - val_accuracy: 0.9094\n",
            "CPU times: user 26.5 s, sys: 1.98 s, total: 28.5 s\n",
            "Wall time: 22 s\n"
          ],
          "name": "stdout"
        }
      ]
    },
    {
      "cell_type": "code",
      "metadata": {
        "colab": {
          "base_uri": "https://localhost:8080/",
          "height": 266
        },
        "id": "KxvPtDPLbXod",
        "outputId": "5bb05ace-4272-4309-cb07-834542680550"
      },
      "source": [
        "plt.plot(history.history['accuracy'],label=\"Training accuracy\")\r\n",
        "plt.plot(history.history['val_accuracy'], label = \"Validation accuracy\")\r\n",
        "plt.legend()\r\n",
        "plt.show()"
      ],
      "execution_count": null,
      "outputs": [
        {
          "output_type": "display_data",
          "data": {
            "image/png": "[encoded data removed]",
            "text/plain": [
              "<Figure size 432x288 with 1 Axes>"
            ]
          },
          "metadata": {
            "tags": [],
            "needs_background": "light"
          }
        }
      ]
    },
    {
      "cell_type": "code",
      "metadata": {
        "colab": {
          "base_uri": "https://localhost:8080/",
          "height": 265
        },
        "id": "dQKePaPBbXod",
        "outputId": "e15af6e7-44a1-4a60-c8bf-f7c4317d940d"
      },
      "source": [
        "plt.plot(history.history['loss'],label=\"Training loss\")\r\n",
        "plt.plot(history.history['val_loss'], label = \"Validation loss\")\r\n",
        "plt.legend()\r\n",
        "plt.show()"
      ],
      "execution_count": null,
      "outputs": [
        {
          "output_type": "display_data",
          "data": {
            "image/png": "[encoded data removed]",
            "text/plain": [
              "<Figure size 432x288 with 1 Axes>"
            ]
          },
          "metadata": {
            "tags": [],
            "needs_background": "light"
          }
        }
      ]
    },
    {
      "cell_type": "markdown",
      "metadata": {
        "id": "gdtY17H9Tk1Z"
      },
      "source": [
        "## Predictions"
      ]
    },
    {
      "cell_type": "code",
      "metadata": {
        "colab": {
          "base_uri": "https://localhost:8080/",
          "height": 195
        },
        "id": "M8sLN4kQDkUi",
        "outputId": "c2caafdd-768b-44fd-ec4a-59a47b149ef8"
      },
      "source": [
        "test_data = pd.read_csv(\"datatest.txt\",engine='python')\n",
        "test_data.head()"
      ],
      "execution_count": null,
      "outputs": [
        {
          "output_type": "execute_result",
          "data": {
            "text/html": [
              "<div>\n",
              "<style scoped>\n",
              "    .dataframe tbody tr th:only-of-type {\n",
              "        vertical-align: middle;\n",
              "    }\n",
              "\n",
              "    .dataframe tbody tr th {\n",
              "        vertical-align: top;\n",
              "    }\n",
              "\n",
              "    .dataframe thead th {\n",
              "        text-align: right;\n",
              "    }\n",
              "</style>\n",
              "<table border=\"1\" class=\"dataframe\">\n",
              "  <thead>\n",
              "    <tr style=\"text-align: right;\">\n",
              "      <th></th>\n",
              "      <th>date</th>\n",
              "      <th>Temperature</th>\n",
              "      <th>Humidity</th>\n",
              "      <th>Light</th>\n",
              "      <th>CO2</th>\n",
              "      <th>HumidityRatio</th>\n",
              "      <th>Occupancy</th>\n",
              "    </tr>\n",
              "  </thead>\n",
              "  <tbody>\n",
              "    <tr>\n",
              "      <th>140</th>\n",
              "      <td>2015-02-02 14:19:00</td>\n",
              "      <td>23.7000</td>\n",
              "      <td>26.272</td>\n",
              "      <td>585.200000</td>\n",
              "      <td>749.200000</td>\n",
              "      <td>0.004764</td>\n",
              "      <td>1</td>\n",
              "    </tr>\n",
              "    <tr>\n",
              "      <th>141</th>\n",
              "      <td>2015-02-02 14:19:59</td>\n",
              "      <td>23.7180</td>\n",
              "      <td>26.290</td>\n",
              "      <td>578.400000</td>\n",
              "      <td>760.400000</td>\n",
              "      <td>0.004773</td>\n",
              "      <td>1</td>\n",
              "    </tr>\n",
              "    <tr>\n",
              "      <th>142</th>\n",
              "      <td>2015-02-02 14:21:00</td>\n",
              "      <td>23.7300</td>\n",
              "      <td>26.230</td>\n",
              "      <td>572.666667</td>\n",
              "      <td>769.666667</td>\n",
              "      <td>0.004765</td>\n",
              "      <td>1</td>\n",
              "    </tr>\n",
              "    <tr>\n",
              "      <th>143</th>\n",
              "      <td>2015-02-02 14:22:00</td>\n",
              "      <td>23.7225</td>\n",
              "      <td>26.125</td>\n",
              "      <td>493.750000</td>\n",
              "      <td>774.750000</td>\n",
              "      <td>0.004744</td>\n",
              "      <td>1</td>\n",
              "    </tr>\n",
              "    <tr>\n",
              "      <th>144</th>\n",
              "      <td>2015-02-02 14:23:00</td>\n",
              "      <td>23.7540</td>\n",
              "      <td>26.200</td>\n",
              "      <td>488.600000</td>\n",
              "      <td>779.000000</td>\n",
              "      <td>0.004767</td>\n",
              "      <td>1</td>\n",
              "    </tr>\n",
              "  </tbody>\n",
              "</table>\n",
              "</div>"
            ],
            "text/plain": [
              "                    date  Temperature  ...  HumidityRatio  Occupancy\n",
              "140  2015-02-02 14:19:00      23.7000  ...       0.004764          1\n",
              "141  2015-02-02 14:19:59      23.7180  ...       0.004773          1\n",
              "142  2015-02-02 14:21:00      23.7300  ...       0.004765          1\n",
              "143  2015-02-02 14:22:00      23.7225  ...       0.004744          1\n",
              "144  2015-02-02 14:23:00      23.7540  ...       0.004767          1\n",
              "\n",
              "[5 rows x 7 columns]"
            ]
          },
          "metadata": {
            "tags": []
          },
          "execution_count": 182
        }
      ]
    },
    {
      "cell_type": "code",
      "metadata": {
        "colab": {
          "base_uri": "https://localhost:8080/"
        },
        "id": "6Q7x50c0OzXw",
        "outputId": "e68a62a1-3640-46c7-f616-97674e94d07d"
      },
      "source": [
        "len(test_data)"
      ],
      "execution_count": null,
      "outputs": [
        {
          "output_type": "execute_result",
          "data": {
            "text/plain": [
              "2665"
            ]
          },
          "metadata": {
            "tags": []
          },
          "execution_count": 183
        }
      ]
    },
    {
      "cell_type": "code",
      "metadata": {
        "id": "Pij09Y8RDkUi"
      },
      "source": [
        "test_data.drop(columns='date',inplace=True)"
      ],
      "execution_count": null,
      "outputs": []
    },
    {
      "cell_type": "code",
      "metadata": {
        "colab": {
          "base_uri": "https://localhost:8080/",
          "height": 195
        },
        "id": "M0FzlEBJDkUk",
        "outputId": "74e430f2-aef5-4432-8bab-856ed1a68a1e"
      },
      "source": [
        "columns_to_scale = ['Temperature','Humidity','Light','CO2','HumidityRatio']\n",
        "test_set_scaler = StandardScaler().fit(test_data[columns_to_scale].to_numpy())\n",
        "test_data.loc[:,columns_to_scale] = test_set_scaler.transform(test_data[columns_to_scale].to_numpy())\n",
        "test_data_occupancy = pd.DataFrame({\"Occupancy\":test_data['Occupancy']})\n",
        "test_data.drop(columns='Occupancy',inplace=True)\n",
        "test_data.head()"
      ],
      "execution_count": null,
      "outputs": [
        {
          "output_type": "execute_result",
          "data": {
            "text/html": [
              "<div>\n",
              "<style scoped>\n",
              "    .dataframe tbody tr th:only-of-type {\n",
              "        vertical-align: middle;\n",
              "    }\n",
              "\n",
              "    .dataframe tbody tr th {\n",
              "        vertical-align: top;\n",
              "    }\n",
              "\n",
              "    .dataframe thead th {\n",
              "        text-align: right;\n",
              "    }\n",
              "</style>\n",
              "<table border=\"1\" class=\"dataframe\">\n",
              "  <thead>\n",
              "    <tr style=\"text-align: right;\">\n",
              "      <th></th>\n",
              "      <th>Temperature</th>\n",
              "      <th>Humidity</th>\n",
              "      <th>Light</th>\n",
              "      <th>CO2</th>\n",
              "      <th>HumidityRatio</th>\n",
              "    </tr>\n",
              "  </thead>\n",
              "  <tbody>\n",
              "    <tr>\n",
              "      <th>140</th>\n",
              "      <td>2.204762</td>\n",
              "      <td>0.376814</td>\n",
              "      <td>1.566862</td>\n",
              "      <td>0.106940</td>\n",
              "      <td>1.207540</td>\n",
              "    </tr>\n",
              "    <tr>\n",
              "      <th>141</th>\n",
              "      <td>2.222275</td>\n",
              "      <td>0.384202</td>\n",
              "      <td>1.539680</td>\n",
              "      <td>0.145214</td>\n",
              "      <td>1.221461</td>\n",
              "    </tr>\n",
              "    <tr>\n",
              "      <th>142</th>\n",
              "      <td>2.233950</td>\n",
              "      <td>0.359575</td>\n",
              "      <td>1.516762</td>\n",
              "      <td>0.176881</td>\n",
              "      <td>1.209161</td>\n",
              "    </tr>\n",
              "    <tr>\n",
              "      <th>143</th>\n",
              "      <td>2.226653</td>\n",
              "      <td>0.316478</td>\n",
              "      <td>1.201302</td>\n",
              "      <td>0.194253</td>\n",
              "      <td>1.174140</td>\n",
              "    </tr>\n",
              "    <tr>\n",
              "      <th>144</th>\n",
              "      <td>2.257300</td>\n",
              "      <td>0.347262</td>\n",
              "      <td>1.180715</td>\n",
              "      <td>0.208776</td>\n",
              "      <td>1.211522</td>\n",
              "    </tr>\n",
              "  </tbody>\n",
              "</table>\n",
              "</div>"
            ],
            "text/plain": [
              "     Temperature  Humidity     Light       CO2  HumidityRatio\n",
              "140     2.204762  0.376814  1.566862  0.106940       1.207540\n",
              "141     2.222275  0.384202  1.539680  0.145214       1.221461\n",
              "142     2.233950  0.359575  1.516762  0.176881       1.209161\n",
              "143     2.226653  0.316478  1.201302  0.194253       1.174140\n",
              "144     2.257300  0.347262  1.180715  0.208776       1.211522"
            ]
          },
          "metadata": {
            "tags": []
          },
          "execution_count": 185
        }
      ]
    },
    {
      "cell_type": "code",
      "metadata": {
        "colab": {
          "base_uri": "https://localhost:8080/"
        },
        "id": "tJ4SC199NuAr",
        "outputId": "4d24346c-1aba-47ae-c0b2-60d99bf8330b"
      },
      "source": [
        "len(test_data)"
      ],
      "execution_count": null,
      "outputs": [
        {
          "output_type": "execute_result",
          "data": {
            "text/plain": [
              "2665"
            ]
          },
          "metadata": {
            "tags": []
          },
          "execution_count": 186
        }
      ]
    },
    {
      "cell_type": "markdown",
      "metadata": {
        "id": "HR6QfIeIDkUl"
      },
      "source": [
        "#### Get predictions from our model"
      ]
    },
    {
      "cell_type": "code",
      "metadata": {
        "id": "u09awf29T-mU"
      },
      "source": [
        "def predict(method, model, test_data, test_labels):\r\n",
        "  predictions = model.predict_classes(test_data)\r\n",
        "  logits = model.predict(test_data)\r\n",
        "  compare = pd.DataFrame({\"test_data\": test_labels,\"predictions\":predictions})\r\n",
        "  print(f\"******{method}*****\")\r\n",
        "  print(f\"f1_score = {  f1_score(compare['test_data'], compare['predictions'])   }\")\r\n",
        "  print(f\"precison_score = {  precision_score(compare['test_data'], compare['predictions'])  }\")\r\n",
        "  print(f\"recall_score = {recall_score(compare['test_data'], compare['predictions'])}\")\r\n",
        "  print(f\"roc_auc_score = {roc_auc_score(test_labels, logits[:, 1])}\")\r\n",
        "  print(classification_report(test_labels, compare['predictions']))\r\n",
        "  return compare"
      ],
      "execution_count": null,
      "outputs": []
    },
    {
      "cell_type": "code",
      "metadata": {
        "colab": {
          "base_uri": "https://localhost:8080/"
        },
        "id": "gwb0Nal8cinG",
        "outputId": "fc42af1b-9788-4c49-bc26-2a6b60abd05f"
      },
      "source": [
        "y_pred = clf.predict(test_data)\r\n",
        "y_proba = clf.predict_proba(test_data)\r\n",
        "print(f\"******Logistic regression*****\")\r\n",
        "print(f\"Precison = {precision_score( test_data_occupancy['Occupancy'].values, y_pred)} \")\r\n",
        "print(f\"Recall = {recall_score( test_data_occupancy['Occupancy'].values, y_pred)}\")\r\n",
        "print(f\"F1 = {f1_score( test_data_occupancy['Occupancy'].values, y_pred)}\")\r\n",
        "print(f\"roc_auc_score = {roc_auc_score(test_data_occupancy['Occupancy'].values, y_proba[:, 1])}\")\r\n",
        "print(classification_report(test_data_occupancy['Occupancy'].values, y_pred ))"
      ],
      "execution_count": null,
      "outputs": [
        {
          "output_type": "stream",
          "text": [
            "******Logistic regression*****\n",
            "Precison = 0.9696132596685083 \n",
            "Recall = 0.7222222222222222\n",
            "F1 = 0.8278301886792453\n",
            "roc_auc_score = 0.9919494213646606\n",
            "              precision    recall  f1-score   support\n",
            "\n",
            "           0       0.86      0.99      0.92      1693\n",
            "           1       0.97      0.72      0.83       972\n",
            "\n",
            "    accuracy                           0.89      2665\n",
            "   macro avg       0.92      0.85      0.87      2665\n",
            "weighted avg       0.90      0.89      0.89      2665\n",
            "\n"
          ],
          "name": "stdout"
        }
      ]
    },
    {
      "cell_type": "code",
      "metadata": {
        "colab": {
          "base_uri": "https://localhost:8080/"
        },
        "id": "xtn88E1NWAs0",
        "outputId": "4d8449c6-f673-4d54-962c-f2610d977f24"
      },
      "source": [
        "compare_fc = predict('Fully connected', model_fc, test_data, test_data_occupancy['Occupancy'].values)"
      ],
      "execution_count": null,
      "outputs": [
        {
          "output_type": "stream",
          "text": [
            "/usr/local/lib/python3.6/dist-packages/tensorflow/python/keras/engine/sequential.py:450: UserWarning: `model.predict_classes()` is deprecated and will be removed after 2021-01-01. Please use instead:* `np.argmax(model.predict(x), axis=-1)`,   if your model does multi-class classification   (e.g. if it uses a `softmax` last-layer activation).* `(model.predict(x) > 0.5).astype(\"int32\")`,   if your model does binary classification   (e.g. if it uses a `sigmoid` last-layer activation).\n",
            "  warnings.warn('`model.predict_classes()` is deprecated and '\n"
          ],
          "name": "stderr"
        },
        {
          "output_type": "stream",
          "text": [
            "******Fully connected*****\n",
            "f1_score = 0.9221810481736368\n",
            "precison_score = 0.9498364231188658\n",
            "recall_score = 0.8960905349794238\n",
            "roc_auc_score = 0.9901591885250086\n",
            "              precision    recall  f1-score   support\n",
            "\n",
            "           0       0.94      0.97      0.96      1693\n",
            "           1       0.95      0.90      0.92       972\n",
            "\n",
            "    accuracy                           0.94      2665\n",
            "   macro avg       0.95      0.93      0.94      2665\n",
            "weighted avg       0.94      0.94      0.94      2665\n",
            "\n"
          ],
          "name": "stdout"
        }
      ]
    },
    {
      "cell_type": "code",
      "metadata": {
        "id": "CPyPhAO42PTf"
      },
      "source": [
        "look_back = 30\r\n",
        "X_test, y_test = create_dataset(test_data.to_numpy(), test_data_occupancy.to_numpy(), look_back)"
      ],
      "execution_count": null,
      "outputs": []
    },
    {
      "cell_type": "code",
      "metadata": {
        "colab": {
          "base_uri": "https://localhost:8080/"
        },
        "id": "YRFxcFJ1mcPQ",
        "outputId": "90c3fd4d-5fa7-4f91-be4b-b3ed0a5e636d"
      },
      "source": [
        "compare_rnn = predict('Simple RNN', model_rnn, X_test, test_data_occupancy['Occupancy'].values[: -look_back])"
      ],
      "execution_count": null,
      "outputs": [
        {
          "output_type": "stream",
          "text": [
            "/usr/local/lib/python3.6/dist-packages/tensorflow/python/keras/engine/sequential.py:450: UserWarning: `model.predict_classes()` is deprecated and will be removed after 2021-01-01. Please use instead:* `np.argmax(model.predict(x), axis=-1)`,   if your model does multi-class classification   (e.g. if it uses a `softmax` last-layer activation).* `(model.predict(x) > 0.5).astype(\"int32\")`,   if your model does binary classification   (e.g. if it uses a `sigmoid` last-layer activation).\n",
            "  warnings.warn('`model.predict_classes()` is deprecated and '\n"
          ],
          "name": "stderr"
        },
        {
          "output_type": "stream",
          "text": [
            "******Simple RNN*****\n",
            "f1_score = 0.9386666666666666\n",
            "precison_score = 0.9431939978563773\n",
            "recall_score = 0.9341825902335457\n",
            "roc_auc_score = 0.9778681544965344\n",
            "              precision    recall  f1-score   support\n",
            "\n",
            "           0       0.96      0.97      0.97      1693\n",
            "           1       0.94      0.93      0.94       942\n",
            "\n",
            "    accuracy                           0.96      2635\n",
            "   macro avg       0.95      0.95      0.95      2635\n",
            "weighted avg       0.96      0.96      0.96      2635\n",
            "\n"
          ],
          "name": "stdout"
        }
      ]
    },
    {
      "cell_type": "code",
      "metadata": {
        "id": "FfdmZ2c9ooXI"
      },
      "source": [
        "look_back = 30\r\n",
        "X_test, y_test = create_dataset(test_data.to_numpy(), test_data_occupancy.to_numpy(), look_back)"
      ],
      "execution_count": null,
      "outputs": []
    },
    {
      "cell_type": "code",
      "metadata": {
        "colab": {
          "base_uri": "https://localhost:8080/"
        },
        "id": "SGPdKBowIT93",
        "outputId": "4de21d1a-80c1-4bbb-b967-47a60cb4f17b"
      },
      "source": [
        "X_test.shape"
      ],
      "execution_count": null,
      "outputs": [
        {
          "output_type": "execute_result",
          "data": {
            "text/plain": [
              "(2635, 30, 5)"
            ]
          },
          "metadata": {
            "tags": []
          },
          "execution_count": 571
        }
      ]
    },
    {
      "cell_type": "code",
      "metadata": {
        "colab": {
          "base_uri": "https://localhost:8080/"
        },
        "id": "e6aRu6eWLuT6",
        "outputId": "75ca4287-fec0-41d5-c745-40b9a3a863b7"
      },
      "source": [
        "compare_lstm = predict('LSTM', model_lstm, X_test, test_data_occupancy['Occupancy'].values[: -look_back])"
      ],
      "execution_count": null,
      "outputs": [
        {
          "output_type": "stream",
          "text": [
            "/usr/local/lib/python3.6/dist-packages/tensorflow/python/keras/engine/sequential.py:450: UserWarning: `model.predict_classes()` is deprecated and will be removed after 2021-01-01. Please use instead:* `np.argmax(model.predict(x), axis=-1)`,   if your model does multi-class classification   (e.g. if it uses a `softmax` last-layer activation).* `(model.predict(x) > 0.5).astype(\"int32\")`,   if your model does binary classification   (e.g. if it uses a `sigmoid` last-layer activation).\n",
            "  warnings.warn('`model.predict_classes()` is deprecated and '\n"
          ],
          "name": "stderr"
        },
        {
          "output_type": "stream",
          "text": [
            "******LSTM*****\n",
            "f1_score = 0.9543786051389617\n",
            "precison_score = 0.9430051813471503\n",
            "recall_score = 0.9660297239915074\n",
            "roc_auc_score = 0.9796639842087376\n",
            "              precision    recall  f1-score   support\n",
            "\n",
            "           0       0.98      0.97      0.97      1693\n",
            "           1       0.94      0.97      0.95       942\n",
            "\n",
            "    accuracy                           0.97      2635\n",
            "   macro avg       0.96      0.97      0.96      2635\n",
            "weighted avg       0.97      0.97      0.97      2635\n",
            "\n"
          ],
          "name": "stdout"
        }
      ]
    },
    {
      "cell_type": "code",
      "metadata": {
        "colab": {
          "base_uri": "https://localhost:8080/"
        },
        "id": "6dHDIVFBe8Vw",
        "outputId": "83d4893d-925b-4f04-dee4-6227426b4d74"
      },
      "source": [
        "compare_gru= predict('GRU', model_gru, X_test, test_data_occupancy['Occupancy'].values[: -30])"
      ],
      "execution_count": null,
      "outputs": [
        {
          "output_type": "stream",
          "text": [
            "/usr/local/lib/python3.6/dist-packages/tensorflow/python/keras/engine/sequential.py:450: UserWarning: `model.predict_classes()` is deprecated and will be removed after 2021-01-01. Please use instead:* `np.argmax(model.predict(x), axis=-1)`,   if your model does multi-class classification   (e.g. if it uses a `softmax` last-layer activation).* `(model.predict(x) > 0.5).astype(\"int32\")`,   if your model does binary classification   (e.g. if it uses a `sigmoid` last-layer activation).\n",
            "  warnings.warn('`model.predict_classes()` is deprecated and '\n"
          ],
          "name": "stderr"
        },
        {
          "output_type": "stream",
          "text": [
            "******GRU*****\n",
            "f1_score = 0.9377328366152208\n",
            "precison_score = 0.9402347918890075\n",
            "recall_score = 0.935244161358811\n",
            "roc_auc_score = 0.9799285931956615\n",
            "              precision    recall  f1-score   support\n",
            "\n",
            "           0       0.96      0.97      0.97      1693\n",
            "           1       0.94      0.94      0.94       942\n",
            "\n",
            "    accuracy                           0.96      2635\n",
            "   macro avg       0.95      0.95      0.95      2635\n",
            "weighted avg       0.96      0.96      0.96      2635\n",
            "\n"
          ],
          "name": "stdout"
        }
      ]
    },
    {
      "cell_type": "code",
      "metadata": {
        "id": "v4B0JD8ZNphK"
      },
      "source": [
        "model_lstm.save('model_lstm.h5')"
      ],
      "execution_count": null,
      "outputs": []
    },
    {
      "cell_type": "code",
      "metadata": {
        "id": "v5Sw-icLOQKf"
      },
      "source": [
        "model_rnn.save('model_rnn.h5')"
      ],
      "execution_count": null,
      "outputs": []
    },
    {
      "cell_type": "code",
      "metadata": {
        "id": "HpRYObF4OT6y"
      },
      "source": [
        "model_fc.save('model_fc.h5')"
      ],
      "execution_count": null,
      "outputs": []
    },
    {
      "cell_type": "code",
      "metadata": {
        "id": "tSbXO2S6P6z3"
      },
      "source": [
        "model_gru.save('model_gru.h5')"
      ],
      "execution_count": null,
      "outputs": []
    },
    {
      "cell_type": "markdown",
      "metadata": {
        "id": "izmoVg5XTa93"
      },
      "source": [
        "## Graphics"
      ]
    },
    {
      "cell_type": "code",
      "metadata": {
        "id": "-9uDWwGGTQZe"
      },
      "source": [
        "test = pd.read_csv(\"datatest.txt\",engine='python')\r\n",
        "test = test.iloc[:-30,:]"
      ],
      "execution_count": null,
      "outputs": []
    },
    {
      "cell_type": "code",
      "metadata": {
        "colab": {
          "base_uri": "https://localhost:8080/",
          "height": 225
        },
        "id": "N-FskOGlTQm8",
        "outputId": "ba6e9e4c-4eff-4395-e2dc-d823a5b4e5db"
      },
      "source": [
        "test['Date']=pd.to_datetime(test['date']).dt.date\n",
        "test['Time']=pd.to_datetime(test['date']).dt.time\n",
        "test.drop(columns='date',inplace=True)\n",
        "test=test.set_index(test['Date'])\n",
        "test.drop(columns='Date',inplace=True)\n",
        "test.head()"
      ],
      "execution_count": null,
      "outputs": [
        {
          "output_type": "execute_result",
          "data": {
            "text/html": [
              "<div>\n",
              "<style scoped>\n",
              "    .dataframe tbody tr th:only-of-type {\n",
              "        vertical-align: middle;\n",
              "    }\n",
              "\n",
              "    .dataframe tbody tr th {\n",
              "        vertical-align: top;\n",
              "    }\n",
              "\n",
              "    .dataframe thead th {\n",
              "        text-align: right;\n",
              "    }\n",
              "</style>\n",
              "<table border=\"1\" class=\"dataframe\">\n",
              "  <thead>\n",
              "    <tr style=\"text-align: right;\">\n",
              "      <th></th>\n",
              "      <th>Temperature</th>\n",
              "      <th>Humidity</th>\n",
              "      <th>Light</th>\n",
              "      <th>CO2</th>\n",
              "      <th>HumidityRatio</th>\n",
              "      <th>Occupancy</th>\n",
              "      <th>Time</th>\n",
              "    </tr>\n",
              "    <tr>\n",
              "      <th>Date</th>\n",
              "      <th></th>\n",
              "      <th></th>\n",
              "      <th></th>\n",
              "      <th></th>\n",
              "      <th></th>\n",
              "      <th></th>\n",
              "      <th></th>\n",
              "    </tr>\n",
              "  </thead>\n",
              "  <tbody>\n",
              "    <tr>\n",
              "      <th>2015-02-02</th>\n",
              "      <td>23.7000</td>\n",
              "      <td>26.272</td>\n",
              "      <td>585.200000</td>\n",
              "      <td>749.200000</td>\n",
              "      <td>0.004764</td>\n",
              "      <td>1</td>\n",
              "      <td>14:19:00</td>\n",
              "    </tr>\n",
              "    <tr>\n",
              "      <th>2015-02-02</th>\n",
              "      <td>23.7180</td>\n",
              "      <td>26.290</td>\n",
              "      <td>578.400000</td>\n",
              "      <td>760.400000</td>\n",
              "      <td>0.004773</td>\n",
              "      <td>1</td>\n",
              "      <td>14:19:59</td>\n",
              "    </tr>\n",
              "    <tr>\n",
              "      <th>2015-02-02</th>\n",
              "      <td>23.7300</td>\n",
              "      <td>26.230</td>\n",
              "      <td>572.666667</td>\n",
              "      <td>769.666667</td>\n",
              "      <td>0.004765</td>\n",
              "      <td>1</td>\n",
              "      <td>14:21:00</td>\n",
              "    </tr>\n",
              "    <tr>\n",
              "      <th>2015-02-02</th>\n",
              "      <td>23.7225</td>\n",
              "      <td>26.125</td>\n",
              "      <td>493.750000</td>\n",
              "      <td>774.750000</td>\n",
              "      <td>0.004744</td>\n",
              "      <td>1</td>\n",
              "      <td>14:22:00</td>\n",
              "    </tr>\n",
              "    <tr>\n",
              "      <th>2015-02-02</th>\n",
              "      <td>23.7540</td>\n",
              "      <td>26.200</td>\n",
              "      <td>488.600000</td>\n",
              "      <td>779.000000</td>\n",
              "      <td>0.004767</td>\n",
              "      <td>1</td>\n",
              "      <td>14:23:00</td>\n",
              "    </tr>\n",
              "  </tbody>\n",
              "</table>\n",
              "</div>"
            ],
            "text/plain": [
              "            Temperature  Humidity  ...  Occupancy      Time\n",
              "Date                               ...                     \n",
              "2015-02-02      23.7000    26.272  ...          1  14:19:00\n",
              "2015-02-02      23.7180    26.290  ...          1  14:19:59\n",
              "2015-02-02      23.7300    26.230  ...          1  14:21:00\n",
              "2015-02-02      23.7225    26.125  ...          1  14:22:00\n",
              "2015-02-02      23.7540    26.200  ...          1  14:23:00\n",
              "\n",
              "[5 rows x 7 columns]"
            ]
          },
          "metadata": {
            "tags": []
          },
          "execution_count": 668
        }
      ]
    },
    {
      "cell_type": "code",
      "metadata": {
        "id": "bdcNaZ2wZ-0T"
      },
      "source": [
        "test['Logistic Regression'] = y_pred[:-30]"
      ],
      "execution_count": null,
      "outputs": []
    },
    {
      "cell_type": "code",
      "metadata": {
        "id": "kUq6GXtzUHMZ"
      },
      "source": [
        "test['Fully connected'] = compare_fc['predictions'].to_numpy()[:-30]"
      ],
      "execution_count": null,
      "outputs": []
    },
    {
      "cell_type": "code",
      "metadata": {
        "id": "xYAGJPiuXwiG"
      },
      "source": [
        "test['Simple RNN'] = compare_rnn['predictions'].to_numpy()"
      ],
      "execution_count": null,
      "outputs": []
    },
    {
      "cell_type": "code",
      "metadata": {
        "id": "AEWm9QEoY4d4"
      },
      "source": [
        "test['LSTM'] = compare_lstm['predictions'].to_numpy()"
      ],
      "execution_count": null,
      "outputs": []
    },
    {
      "cell_type": "code",
      "metadata": {
        "id": "4jPPzvRbY8ku"
      },
      "source": [
        "test['GRU'] = compare_gru['predictions'].to_numpy()"
      ],
      "execution_count": null,
      "outputs": []
    },
    {
      "cell_type": "code",
      "metadata": {
        "colab": {
          "base_uri": "https://localhost:8080/"
        },
        "id": "xBTI0entVibw",
        "outputId": "45b9e692-310b-4723-9fd9-0afc5cc1d346"
      },
      "source": [
        "compare_fc['predictions']"
      ],
      "execution_count": null,
      "outputs": [
        {
          "output_type": "execute_result",
          "data": {
            "text/plain": [
              "0       1\n",
              "1       1\n",
              "2       1\n",
              "3       0\n",
              "4       0\n",
              "       ..\n",
              "2660    1\n",
              "2661    1\n",
              "2662    1\n",
              "2663    1\n",
              "2664    1\n",
              "Name: predictions, Length: 2665, dtype: int64"
            ]
          },
          "metadata": {
            "tags": []
          },
          "execution_count": 639
        }
      ]
    },
    {
      "cell_type": "code",
      "metadata": {
        "colab": {
          "base_uri": "https://localhost:8080/",
          "height": 431
        },
        "id": "QQi3rC0TVX_A",
        "outputId": "cdaa4791-2343-43a2-fd84-2f8dbc4f2d4c"
      },
      "source": [
        "test"
      ],
      "execution_count": null,
      "outputs": [
        {
          "output_type": "execute_result",
          "data": {
            "text/html": [
              "<div>\n",
              "<style scoped>\n",
              "    .dataframe tbody tr th:only-of-type {\n",
              "        vertical-align: middle;\n",
              "    }\n",
              "\n",
              "    .dataframe tbody tr th {\n",
              "        vertical-align: top;\n",
              "    }\n",
              "\n",
              "    .dataframe thead th {\n",
              "        text-align: right;\n",
              "    }\n",
              "</style>\n",
              "<table border=\"1\" class=\"dataframe\">\n",
              "  <thead>\n",
              "    <tr style=\"text-align: right;\">\n",
              "      <th></th>\n",
              "      <th>Temperature</th>\n",
              "      <th>Humidity</th>\n",
              "      <th>Light</th>\n",
              "      <th>CO2</th>\n",
              "      <th>HumidityRatio</th>\n",
              "      <th>Occupancy</th>\n",
              "      <th>Time</th>\n",
              "      <th>Fully connected</th>\n",
              "      <th>Simple RNN</th>\n",
              "      <th>LSTM</th>\n",
              "      <th>GRU</th>\n",
              "      <th>Logistic Regression</th>\n",
              "    </tr>\n",
              "    <tr>\n",
              "      <th>Date</th>\n",
              "      <th></th>\n",
              "      <th></th>\n",
              "      <th></th>\n",
              "      <th></th>\n",
              "      <th></th>\n",
              "      <th></th>\n",
              "      <th></th>\n",
              "      <th></th>\n",
              "      <th></th>\n",
              "      <th></th>\n",
              "      <th></th>\n",
              "      <th></th>\n",
              "    </tr>\n",
              "  </thead>\n",
              "  <tbody>\n",
              "    <tr>\n",
              "      <th>2015-02-02</th>\n",
              "      <td>23.700000</td>\n",
              "      <td>26.272000</td>\n",
              "      <td>585.200000</td>\n",
              "      <td>749.200000</td>\n",
              "      <td>0.004764</td>\n",
              "      <td>1</td>\n",
              "      <td>14:19:00</td>\n",
              "      <td>1</td>\n",
              "      <td>1</td>\n",
              "      <td>1</td>\n",
              "      <td>1</td>\n",
              "      <td>0</td>\n",
              "    </tr>\n",
              "    <tr>\n",
              "      <th>2015-02-02</th>\n",
              "      <td>23.718000</td>\n",
              "      <td>26.290000</td>\n",
              "      <td>578.400000</td>\n",
              "      <td>760.400000</td>\n",
              "      <td>0.004773</td>\n",
              "      <td>1</td>\n",
              "      <td>14:19:59</td>\n",
              "      <td>1</td>\n",
              "      <td>1</td>\n",
              "      <td>1</td>\n",
              "      <td>1</td>\n",
              "      <td>0</td>\n",
              "    </tr>\n",
              "    <tr>\n",
              "      <th>2015-02-02</th>\n",
              "      <td>23.730000</td>\n",
              "      <td>26.230000</td>\n",
              "      <td>572.666667</td>\n",
              "      <td>769.666667</td>\n",
              "      <td>0.004765</td>\n",
              "      <td>1</td>\n",
              "      <td>14:21:00</td>\n",
              "      <td>1</td>\n",
              "      <td>1</td>\n",
              "      <td>1</td>\n",
              "      <td>1</td>\n",
              "      <td>0</td>\n",
              "    </tr>\n",
              "    <tr>\n",
              "      <th>2015-02-02</th>\n",
              "      <td>23.722500</td>\n",
              "      <td>26.125000</td>\n",
              "      <td>493.750000</td>\n",
              "      <td>774.750000</td>\n",
              "      <td>0.004744</td>\n",
              "      <td>1</td>\n",
              "      <td>14:22:00</td>\n",
              "      <td>0</td>\n",
              "      <td>1</td>\n",
              "      <td>1</td>\n",
              "      <td>1</td>\n",
              "      <td>0</td>\n",
              "    </tr>\n",
              "    <tr>\n",
              "      <th>2015-02-02</th>\n",
              "      <td>23.754000</td>\n",
              "      <td>26.200000</td>\n",
              "      <td>488.600000</td>\n",
              "      <td>779.000000</td>\n",
              "      <td>0.004767</td>\n",
              "      <td>1</td>\n",
              "      <td>14:23:00</td>\n",
              "      <td>0</td>\n",
              "      <td>1</td>\n",
              "      <td>1</td>\n",
              "      <td>1</td>\n",
              "      <td>0</td>\n",
              "    </tr>\n",
              "    <tr>\n",
              "      <th>...</th>\n",
              "      <td>...</td>\n",
              "      <td>...</td>\n",
              "      <td>...</td>\n",
              "      <td>...</td>\n",
              "      <td>...</td>\n",
              "      <td>...</td>\n",
              "      <td>...</td>\n",
              "      <td>...</td>\n",
              "      <td>...</td>\n",
              "      <td>...</td>\n",
              "      <td>...</td>\n",
              "      <td>...</td>\n",
              "    </tr>\n",
              "    <tr>\n",
              "      <th>2015-02-04</th>\n",
              "      <td>23.666667</td>\n",
              "      <td>26.066667</td>\n",
              "      <td>746.333333</td>\n",
              "      <td>1109.000000</td>\n",
              "      <td>0.004717</td>\n",
              "      <td>1</td>\n",
              "      <td>10:08:59</td>\n",
              "      <td>1</td>\n",
              "      <td>1</td>\n",
              "      <td>1</td>\n",
              "      <td>1</td>\n",
              "      <td>1</td>\n",
              "    </tr>\n",
              "    <tr>\n",
              "      <th>2015-02-04</th>\n",
              "      <td>23.700000</td>\n",
              "      <td>26.120000</td>\n",
              "      <td>737.800000</td>\n",
              "      <td>1119.000000</td>\n",
              "      <td>0.004736</td>\n",
              "      <td>1</td>\n",
              "      <td>10:09:59</td>\n",
              "      <td>1</td>\n",
              "      <td>1</td>\n",
              "      <td>1</td>\n",
              "      <td>1</td>\n",
              "      <td>1</td>\n",
              "    </tr>\n",
              "    <tr>\n",
              "      <th>2015-02-04</th>\n",
              "      <td>23.718000</td>\n",
              "      <td>26.100000</td>\n",
              "      <td>745.000000</td>\n",
              "      <td>1123.400000</td>\n",
              "      <td>0.004738</td>\n",
              "      <td>1</td>\n",
              "      <td>10:11:00</td>\n",
              "      <td>1</td>\n",
              "      <td>1</td>\n",
              "      <td>1</td>\n",
              "      <td>1</td>\n",
              "      <td>1</td>\n",
              "    </tr>\n",
              "    <tr>\n",
              "      <th>2015-02-04</th>\n",
              "      <td>23.790000</td>\n",
              "      <td>26.125000</td>\n",
              "      <td>740.500000</td>\n",
              "      <td>1122.500000</td>\n",
              "      <td>0.004763</td>\n",
              "      <td>1</td>\n",
              "      <td>10:12:00</td>\n",
              "      <td>1</td>\n",
              "      <td>1</td>\n",
              "      <td>1</td>\n",
              "      <td>1</td>\n",
              "      <td>1</td>\n",
              "    </tr>\n",
              "    <tr>\n",
              "      <th>2015-02-04</th>\n",
              "      <td>23.745000</td>\n",
              "      <td>26.200000</td>\n",
              "      <td>754.000000</td>\n",
              "      <td>1123.000000</td>\n",
              "      <td>0.004764</td>\n",
              "      <td>1</td>\n",
              "      <td>10:13:00</td>\n",
              "      <td>1</td>\n",
              "      <td>1</td>\n",
              "      <td>1</td>\n",
              "      <td>1</td>\n",
              "      <td>1</td>\n",
              "    </tr>\n",
              "  </tbody>\n",
              "</table>\n",
              "<p>2635 rows × 12 columns</p>\n",
              "</div>"
            ],
            "text/plain": [
              "            Temperature   Humidity       Light  ...  LSTM  GRU  Logistic Regression\n",
              "Date                                            ...                                \n",
              "2015-02-02    23.700000  26.272000  585.200000  ...     1    1                    0\n",
              "2015-02-02    23.718000  26.290000  578.400000  ...     1    1                    0\n",
              "2015-02-02    23.730000  26.230000  572.666667  ...     1    1                    0\n",
              "2015-02-02    23.722500  26.125000  493.750000  ...     1    1                    0\n",
              "2015-02-02    23.754000  26.200000  488.600000  ...     1    1                    0\n",
              "...                 ...        ...         ...  ...   ...  ...                  ...\n",
              "2015-02-04    23.666667  26.066667  746.333333  ...     1    1                    1\n",
              "2015-02-04    23.700000  26.120000  737.800000  ...     1    1                    1\n",
              "2015-02-04    23.718000  26.100000  745.000000  ...     1    1                    1\n",
              "2015-02-04    23.790000  26.125000  740.500000  ...     1    1                    1\n",
              "2015-02-04    23.745000  26.200000  754.000000  ...     1    1                    1\n",
              "\n",
              "[2635 rows x 12 columns]"
            ]
          },
          "metadata": {
            "tags": []
          },
          "execution_count": 686
        }
      ]
    },
    {
      "cell_type": "code",
      "metadata": {
        "colab": {
          "base_uri": "https://localhost:8080/",
          "height": 1000
        },
        "id": "pWNAlCNRah4T",
        "outputId": "0b64a1d4-ff38-4252-9dfc-2547f9a7b665"
      },
      "source": [
        "day2 = test.loc[datetime.date(year=2015,month=2,day=2)]\r\n",
        "day3 = test.loc[datetime.date(year=2015,month=2,day=3)]\r\n",
        "day4 = test.loc[datetime.date(year=2015,month=2,day=4)]\r\n",
        "\r\n",
        "\r\n",
        "day2.plot('Time','Occupancy', title = 'day 2')\r\n",
        "day2.plot('Time','Logistic Regression', title = 'day 2', color='orange')\r\n",
        "day3.plot('Time','Occupancy', title = 'day 3')\r\n",
        "day3.plot('Time','Logistic Regression', title = 'day 3', color='orange')\r\n",
        "day4.plot('Time','Occupancy', title = 'day 4')\r\n",
        "plt.xticks(rotation=15)\r\n",
        "day4.plot('Time','Logistic Regression', title = 'day 4', color='orange')\r\n",
        "plt.xticks(rotation=15)"
      ],
      "execution_count": null,
      "outputs": [
        {
          "output_type": "execute_result",
          "data": {
            "text/plain": [
              "(array([-5000.,     0.,  5000., 10000., 15000., 20000., 25000., 30000.,\n",
              "        35000., 40000.]), <a list of 10 Text major ticklabel objects>)"
            ]
          },
          "metadata": {
            "tags": []
          },
          "execution_count": 687
        },
        {
          "output_type": "display_data",
          "data": {
            "image/png": "[encoded data removed]",
            "text/plain": [
              "<Figure size 432x288 with 1 Axes>"
            ]
          },
          "metadata": {
            "tags": [],
            "needs_background": "light"
          }
        },
        {
          "output_type": "display_data",
          "data": {
            "image/png": "[encoded data removed]",
            "text/plain": [
              "<Figure size 432x288 with 1 Axes>"
            ]
          },
          "metadata": {
            "tags": [],
            "needs_background": "light"
          }
        },
        {
          "output_type": "display_data",
          "data": {
            "image/png": "[encoded data removed]",
            "text/plain": [
              "<Figure size 432x288 with 1 Axes>"
            ]
          },
          "metadata": {
            "tags": [],
            "needs_background": "light"
          }
        },
        {
          "output_type": "display_data",
          "data": {
            "image/png": "[encoded data removed]",
            "text/plain": [
              "<Figure size 432x288 with 1 Axes>"
            ]
          },
          "metadata": {
            "tags": [],
            "needs_background": "light"
          }
        },
        {
          "output_type": "display_data",
          "data": {
            "image/png": "[encoded data removed]",
            "text/plain": [
              "<Figure size 432x288 with 1 Axes>"
            ]
          },
          "metadata": {
            "tags": [],
            "needs_background": "light"
          }
        },
        {
          "output_type": "display_data",
          "data": {
            "image/png": "[encoded data removed]",
            "text/plain": [
              "<Figure size 432x288 with 1 Axes>"
            ]
          },
          "metadata": {
            "tags": [],
            "needs_background": "light"
          }
        }
      ]
    },
    {
      "cell_type": "code",
      "metadata": {
        "colab": {
          "base_uri": "https://localhost:8080/",
          "height": 1000
        },
        "id": "mvYw-b60TQm8",
        "outputId": "9ddc07eb-a4f1-4d94-d098-b8fda73692cd"
      },
      "source": [
        "day2 = test.loc[datetime.date(year=2015,month=2,day=2)]\n",
        "day3 = test.loc[datetime.date(year=2015,month=2,day=3)]\n",
        "day4 = test.loc[datetime.date(year=2015,month=2,day=4)]\n",
        "\n",
        "\n",
        "day2.plot('Time','Occupancy', title = 'day 2')\n",
        "day2.plot('Time','Fully connected', title = 'day 2', color='orange')\n",
        "day3.plot('Time','Occupancy', title = 'day 3')\n",
        "day3.plot('Time','Fully connected', title = 'day 3', color='orange')\n",
        "day4.plot('Time','Occupancy', title = 'day 4')\n",
        "plt.xticks(rotation=15)\n",
        "day4.plot('Time','Fully connected', title = 'day 4', color='orange')\n",
        "plt.xticks(rotation=15)"
      ],
      "execution_count": null,
      "outputs": [
        {
          "output_type": "execute_result",
          "data": {
            "text/plain": [
              "(array([-5000.,     0.,  5000., 10000., 15000., 20000., 25000., 30000.,\n",
              "        35000., 40000.]), <a list of 10 Text major ticklabel objects>)"
            ]
          },
          "metadata": {
            "tags": []
          },
          "execution_count": 679
        },
        {
          "output_type": "display_data",
          "data": {
            "image/png": "[encoded data removed]",
            "text/plain": [
              "<Figure size 432x288 with 1 Axes>"
            ]
          },
          "metadata": {
            "tags": [],
            "needs_background": "light"
          }
        },
        {
          "output_type": "display_data",
          "data": {
            "image/png": "[encoded data removed]",
            "text/plain": [
              "<Figure size 432x288 with 1 Axes>"
            ]
          },
          "metadata": {
            "tags": [],
            "needs_background": "light"
          }
        },
        {
          "output_type": "display_data",
          "data": {
            "image/png": "[encoded data removed]",
            "text/plain": [
              "<Figure size 432x288 with 1 Axes>"
            ]
          },
          "metadata": {
            "tags": [],
            "needs_background": "light"
          }
        },
        {
          "output_type": "display_data",
          "data": {
            "image/png": "[encoded data removed]",
            "text/plain": [
              "<Figure size 432x288 with 1 Axes>"
            ]
          },
          "metadata": {
            "tags": [],
            "needs_background": "light"
          }
        },
        {
          "output_type": "display_data",
          "data": {
            "image/png": "[encoded data removed]",
            "text/plain": [
              "<Figure size 432x288 with 1 Axes>"
            ]
          },
          "metadata": {
            "tags": [],
            "needs_background": "light"
          }
        },
        {
          "output_type": "display_data",
          "data": {
            "image/png": "[encoded data removed]",
            "text/plain": [
              "<Figure size 432x288 with 1 Axes>"
            ]
          },
          "metadata": {
            "tags": [],
            "needs_background": "light"
          }
        }
      ]
    },
    {
      "cell_type": "code",
      "metadata": {
        "colab": {
          "base_uri": "https://localhost:8080/",
          "height": 1000
        },
        "id": "Kjs_h_hcXrRh",
        "outputId": "d87e88b9-179f-478c-e375-170a90107ea1"
      },
      "source": [
        "day2 = test.loc[datetime.date(year=2015,month=2,day=2)]\r\n",
        "day3 = test.loc[datetime.date(year=2015,month=2,day=3)]\r\n",
        "day4 = test.loc[datetime.date(year=2015,month=2,day=4)]\r\n",
        "\r\n",
        "\r\n",
        "day2.plot('Time','Occupancy', title = 'day 2')\r\n",
        "day2.plot('Time','Simple RNN', title = 'day 2', color='orange')\r\n",
        "day3.plot('Time','Occupancy', title = 'day 3')\r\n",
        "day3.plot('Time','Simple RNN', title = 'day 3', color='orange')\r\n",
        "day4.plot('Time','Occupancy', title = 'day 4')\r\n",
        "plt.xticks(rotation=15)\r\n",
        "day4.plot('Time','Simple RNN', title = 'day 4', color='orange')\r\n",
        "plt.xticks(rotation=15)"
      ],
      "execution_count": null,
      "outputs": [
        {
          "output_type": "execute_result",
          "data": {
            "text/plain": [
              "(array([-5000.,     0.,  5000., 10000., 15000., 20000., 25000., 30000.,\n",
              "        35000., 40000.]), <a list of 10 Text major ticklabel objects>)"
            ]
          },
          "metadata": {
            "tags": []
          },
          "execution_count": 680
        },
        {
          "output_type": "display_data",
          "data": {
            "image/png": "[encoded data removed]",
            "text/plain": [
              "<Figure size 432x288 with 1 Axes>"
            ]
          },
          "metadata": {
            "tags": [],
            "needs_background": "light"
          }
        },
        {
          "output_type": "display_data",
          "data": {
            "image/png": "[encoded data removed]",
            "text/plain": [
              "<Figure size 432x288 with 1 Axes>"
            ]
          },
          "metadata": {
            "tags": [],
            "needs_background": "light"
          }
        },
        {
          "output_type": "display_data",
          "data": {
            "image/png": "[encoded data removed]",
            "text/plain": [
              "<Figure size 432x288 with 1 Axes>"
            ]
          },
          "metadata": {
            "tags": [],
            "needs_background": "light"
          }
        },
        {
          "output_type": "display_data",
          "data": {
            "image/png": "[encoded data removed]",
            "text/plain": [
              "<Figure size 432x288 with 1 Axes>"
            ]
          },
          "metadata": {
            "tags": [],
            "needs_background": "light"
          }
        },
        {
          "output_type": "display_data",
          "data": {
            "image/png": "[encoded data removed]",
            "text/plain": [
              "<Figure size 432x288 with 1 Axes>"
            ]
          },
          "metadata": {
            "tags": [],
            "needs_background": "light"
          }
        },
        {
          "output_type": "display_data",
          "data": {
            "image/png": "[encoded data removed]",
            "text/plain": [
              "<Figure size 432x288 with 1 Axes>"
            ]
          },
          "metadata": {
            "tags": [],
            "needs_background": "light"
          }
        }
      ]
    },
    {
      "cell_type": "code",
      "metadata": {
        "colab": {
          "base_uri": "https://localhost:8080/",
          "height": 1000
        },
        "id": "b5-iePTWZeg9",
        "outputId": "7490bfaf-552f-4668-e052-bcbe0ab26a58"
      },
      "source": [
        "day2 = test.loc[datetime.date(year=2015,month=2,day=2)]\r\n",
        "day3 = test.loc[datetime.date(year=2015,month=2,day=3)]\r\n",
        "day4 = test.loc[datetime.date(year=2015,month=2,day=4)]\r\n",
        "\r\n",
        "\r\n",
        "day2.plot('Time','Occupancy', title = 'day 2')\r\n",
        "day2.plot('Time','LSTM', title = 'day 2', color='orange')\r\n",
        "day3.plot('Time','Occupancy', title = 'day 3')\r\n",
        "day3.plot('Time','LSTM', title = 'day 3', color='orange')\r\n",
        "day4.plot('Time','Occupancy', title = 'day 4')\r\n",
        "plt.xticks(rotation=15)\r\n",
        "day4.plot('Time','LSTM', title = 'day 4', color='orange')\r\n",
        "plt.xticks(rotation=15)"
      ],
      "execution_count": null,
      "outputs": [
        {
          "output_type": "execute_result",
          "data": {
            "text/plain": [
              "(array([-5000.,     0.,  5000., 10000., 15000., 20000., 25000., 30000.,\n",
              "        35000., 40000.]), <a list of 10 Text major ticklabel objects>)"
            ]
          },
          "metadata": {
            "tags": []
          },
          "execution_count": 681
        },
        {
          "output_type": "display_data",
          "data": {
            "image/png": "[encoded data removed]",
            "text/plain": [
              "<Figure size 432x288 with 1 Axes>"
            ]
          },
          "metadata": {
            "tags": [],
            "needs_background": "light"
          }
        },
        {
          "output_type": "display_data",
          "data": {
            "image/png": "[encoded data removed]",
            "text/plain": [
              "<Figure size 432x288 with 1 Axes>"
            ]
          },
          "metadata": {
            "tags": [],
            "needs_background": "light"
          }
        },
        {
          "output_type": "display_data",
          "data": {
            "image/png": "[encoded data removed]",
            "text/plain": [
              "<Figure size 432x288 with 1 Axes>"
            ]
          },
          "metadata": {
            "tags": [],
            "needs_background": "light"
          }
        },
        {
          "output_type": "display_data",
          "data": {
            "image/png": "[encoded data removed]",
            "text/plain": [
              "<Figure size 432x288 with 1 Axes>"
            ]
          },
          "metadata": {
            "tags": [],
            "needs_background": "light"
          }
        },
        {
          "output_type": "display_data",
          "data": {
            "image/png": "[encoded data removed]",
            "text/plain": [
              "<Figure size 432x288 with 1 Axes>"
            ]
          },
          "metadata": {
            "tags": [],
            "needs_background": "light"
          }
        },
        {
          "output_type": "display_data",
          "data": {
            "image/png": "[encoded data removed]",
            "text/plain": [
              "<Figure size 432x288 with 1 Axes>"
            ]
          },
          "metadata": {
            "tags": [],
            "needs_background": "light"
          }
        }
      ]
    },
    {
      "cell_type": "code",
      "metadata": {
        "colab": {
          "base_uri": "https://localhost:8080/",
          "height": 1000
        },
        "id": "kWhub2-lVLFe",
        "outputId": "33023c6c-8974-412a-9be6-5cda0b8c8b22"
      },
      "source": [
        "day2 = test.loc[datetime.date(year=2015,month=2,day=2)]\r\n",
        "day3 = test.loc[datetime.date(year=2015,month=2,day=3)]\r\n",
        "day4 = test.loc[datetime.date(year=2015,month=2,day=4)]\r\n",
        "\r\n",
        "\r\n",
        "day2.plot('Time','Occupancy', title = 'day 2')\r\n",
        "day2.plot('Time','GRU', title = 'day 2', color='orange')\r\n",
        "day3.plot('Time','Occupancy', title = 'day 3')\r\n",
        "day3.plot('Time','GRU', title = 'day 3', color='orange')\r\n",
        "day4.plot('Time','Occupancy', title = 'day 4')\r\n",
        "plt.xticks(rotation=15)\r\n",
        "day4.plot('Time','GRU', title = 'day 4', color='orange')\r\n",
        "plt.xticks(rotation=15)"
      ],
      "execution_count": null,
      "outputs": [
        {
          "output_type": "execute_result",
          "data": {
            "text/plain": [
              "(array([-5000.,     0.,  5000., 10000., 15000., 20000., 25000., 30000.,\n",
              "        35000., 40000.]), <a list of 10 Text major ticklabel objects>)"
            ]
          },
          "metadata": {
            "tags": []
          },
          "execution_count": 682
        },
        {
          "output_type": "display_data",
          "data": {
            "image/png": "[encoded data removed]",
            "text/plain": [
              "<Figure size 432x288 with 1 Axes>"
            ]
          },
          "metadata": {
            "tags": [],
            "needs_background": "light"
          }
        },
        {
          "output_type": "display_data",
          "data": {
            "image/png": "[encoded data removed]",
            "text/plain": [
              "<Figure size 432x288 with 1 Axes>"
            ]
          },
          "metadata": {
            "tags": [],
            "needs_background": "light"
          }
        },
        {
          "output_type": "display_data",
          "data": {
            "image/png": "[encoded data removed]",
            "text/plain": [
              "<Figure size 432x288 with 1 Axes>"
            ]
          },
          "metadata": {
            "tags": [],
            "needs_background": "light"
          }
        },
        {
          "output_type": "display_data",
          "data": {
            "image/png": "[encoded data removed]",
            "text/plain": [
              "<Figure size 432x288 with 1 Axes>"
            ]
          },
          "metadata": {
            "tags": [],
            "needs_background": "light"
          }
        },
        {
          "output_type": "display_data",
          "data": {
            "image/png": "[encoded data removed]",
            "text/plain": [
              "<Figure size 432x288 with 1 Axes>"
            ]
          },
          "metadata": {
            "tags": [],
            "needs_background": "light"
          }
        },
        {
          "output_type": "display_data",
          "data": {
            "image/png": "[encoded data removed]",
            "text/plain": [
              "<Figure size 432x288 with 1 Axes>"
            ]
          },
          "metadata": {
            "tags": [],
            "needs_background": "light"
          }
        }
      ]
    },
    {
      "cell_type": "code",
      "metadata": {
        "id": "HaKqt2ESa2HG"
      },
      "source": [
        "test.to_csv('result.csv')"
      ],
      "execution_count": null,
      "outputs": []
    },
    {
      "cell_type": "code",
      "metadata": {
        "id": "zqkMpx5CbT6l"
      },
      "source": [
        "d = pd.read_csv('result.csv')"
      ],
      "execution_count": null,
      "outputs": []
    },
    {
      "cell_type": "code",
      "metadata": {
        "id": "QNVPoKlubYP1",
        "colab": {
          "base_uri": "https://localhost:8080/",
          "height": 195
        },
        "outputId": "a6742da4-483b-45bd-b6bb-832d4f692ce7"
      },
      "source": [
        "d.head()"
      ],
      "execution_count": null,
      "outputs": [
        {
          "output_type": "execute_result",
          "data": {
            "text/html": [
              "<div>\n",
              "<style scoped>\n",
              "    .dataframe tbody tr th:only-of-type {\n",
              "        vertical-align: middle;\n",
              "    }\n",
              "\n",
              "    .dataframe tbody tr th {\n",
              "        vertical-align: top;\n",
              "    }\n",
              "\n",
              "    .dataframe thead th {\n",
              "        text-align: right;\n",
              "    }\n",
              "</style>\n",
              "<table border=\"1\" class=\"dataframe\">\n",
              "  <thead>\n",
              "    <tr style=\"text-align: right;\">\n",
              "      <th></th>\n",
              "      <th>Date</th>\n",
              "      <th>Temperature</th>\n",
              "      <th>Humidity</th>\n",
              "      <th>Light</th>\n",
              "      <th>CO2</th>\n",
              "      <th>HumidityRatio</th>\n",
              "      <th>Occupancy</th>\n",
              "      <th>Time</th>\n",
              "      <th>Fully connected</th>\n",
              "      <th>Simple RNN</th>\n",
              "      <th>LSTM</th>\n",
              "      <th>GRU</th>\n",
              "      <th>Logistic Regression</th>\n",
              "    </tr>\n",
              "  </thead>\n",
              "  <tbody>\n",
              "    <tr>\n",
              "      <th>0</th>\n",
              "      <td>2015-02-02</td>\n",
              "      <td>23.7000</td>\n",
              "      <td>26.272</td>\n",
              "      <td>585.200000</td>\n",
              "      <td>749.200000</td>\n",
              "      <td>0.004764</td>\n",
              "      <td>1</td>\n",
              "      <td>14:19:00</td>\n",
              "      <td>1</td>\n",
              "      <td>1</td>\n",
              "      <td>1</td>\n",
              "      <td>1</td>\n",
              "      <td>0</td>\n",
              "    </tr>\n",
              "    <tr>\n",
              "      <th>1</th>\n",
              "      <td>2015-02-02</td>\n",
              "      <td>23.7180</td>\n",
              "      <td>26.290</td>\n",
              "      <td>578.400000</td>\n",
              "      <td>760.400000</td>\n",
              "      <td>0.004773</td>\n",
              "      <td>1</td>\n",
              "      <td>14:19:59</td>\n",
              "      <td>1</td>\n",
              "      <td>1</td>\n",
              "      <td>1</td>\n",
              "      <td>1</td>\n",
              "      <td>0</td>\n",
              "    </tr>\n",
              "    <tr>\n",
              "      <th>2</th>\n",
              "      <td>2015-02-02</td>\n",
              "      <td>23.7300</td>\n",
              "      <td>26.230</td>\n",
              "      <td>572.666667</td>\n",
              "      <td>769.666667</td>\n",
              "      <td>0.004765</td>\n",
              "      <td>1</td>\n",
              "      <td>14:21:00</td>\n",
              "      <td>1</td>\n",
              "      <td>1</td>\n",
              "      <td>1</td>\n",
              "      <td>1</td>\n",
              "      <td>0</td>\n",
              "    </tr>\n",
              "    <tr>\n",
              "      <th>3</th>\n",
              "      <td>2015-02-02</td>\n",
              "      <td>23.7225</td>\n",
              "      <td>26.125</td>\n",
              "      <td>493.750000</td>\n",
              "      <td>774.750000</td>\n",
              "      <td>0.004744</td>\n",
              "      <td>1</td>\n",
              "      <td>14:22:00</td>\n",
              "      <td>0</td>\n",
              "      <td>1</td>\n",
              "      <td>1</td>\n",
              "      <td>1</td>\n",
              "      <td>0</td>\n",
              "    </tr>\n",
              "    <tr>\n",
              "      <th>4</th>\n",
              "      <td>2015-02-02</td>\n",
              "      <td>23.7540</td>\n",
              "      <td>26.200</td>\n",
              "      <td>488.600000</td>\n",
              "      <td>779.000000</td>\n",
              "      <td>0.004767</td>\n",
              "      <td>1</td>\n",
              "      <td>14:23:00</td>\n",
              "      <td>0</td>\n",
              "      <td>1</td>\n",
              "      <td>1</td>\n",
              "      <td>1</td>\n",
              "      <td>0</td>\n",
              "    </tr>\n",
              "  </tbody>\n",
              "</table>\n",
              "</div>"
            ],
            "text/plain": [
              "         Date  Temperature  Humidity  ...  LSTM  GRU  Logistic Regression\n",
              "0  2015-02-02      23.7000    26.272  ...     1    1                    0\n",
              "1  2015-02-02      23.7180    26.290  ...     1    1                    0\n",
              "2  2015-02-02      23.7300    26.230  ...     1    1                    0\n",
              "3  2015-02-02      23.7225    26.125  ...     1    1                    0\n",
              "4  2015-02-02      23.7540    26.200  ...     1    1                    0\n",
              "\n",
              "[5 rows x 13 columns]"
            ]
          },
          "metadata": {
            "tags": []
          },
          "execution_count": 690
        }
      ]
    }
  ]
}