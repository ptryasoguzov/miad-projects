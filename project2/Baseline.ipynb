{
  "nbformat": 4,
  "nbformat_minor": 0,
  "metadata": {
    "colab": {
      "name": "Baseline.ipynb",
      "provenance": [],
      "collapsed_sections": []
    },
    "kernelspec": {
      "name": "python3",
      "display_name": "Python 3"
    }
  },
  "cells": [
    {
      "cell_type": "code",
      "metadata": {
        "id": "I2Vf_cJ2iHJK"
      },
      "source": [
        "import pandas as pd"
      ],
      "execution_count": 1,
      "outputs": []
    },
    {
      "cell_type": "code",
      "metadata": {
        "id": "6yvg_mwzPGys"
      },
      "source": [
        "import numpy as np\r\n",
        "import pandas as pd\r\n",
        "import matplotlib.pyplot as plt\r\n",
        "from sklearn.model_selection import train_test_split\r\n",
        "from sklearn.linear_model import LinearRegression\r\n",
        "from scipy.special import boxcox1p\r\n",
        "from sklearn.metrics import classification_report\r\n",
        "import seaborn as sns"
      ],
      "execution_count": 2,
      "outputs": []
    },
    {
      "cell_type": "markdown",
      "metadata": {
        "id": "DXmcjRgzeAGE"
      },
      "source": [
        "# Dataset"
      ]
    },
    {
      "cell_type": "code",
      "metadata": {
        "colab": {
          "base_uri": "https://localhost:8080/"
        },
        "id": "UxQWVJTp9fGT",
        "outputId": "f43738f3-ed17-45b4-e72b-c14517acf57d"
      },
      "source": [
        "!wget https://archive.ics.uci.edu/ml/machine-learning-databases/00357/occupancy_data.zip\r\n",
        "!unzip occupancy_data.zip"
      ],
      "execution_count": 3,
      "outputs": [
        {
          "output_type": "stream",
          "text": [
            "--2020-12-24 20:36:02--  https://archive.ics.uci.edu/ml/machine-learning-databases/00357/occupancy_data.zip\n",
            "Resolving archive.ics.uci.edu (archive.ics.uci.edu)... 128.195.10.252\n",
            "Connecting to archive.ics.uci.edu (archive.ics.uci.edu)|128.195.10.252|:443... connected.\n",
            "HTTP request sent, awaiting response... 200 OK\n",
            "Length: 335713 (328K) [application/x-httpd-php]\n",
            "Saving to: ‘occupancy_data.zip’\n",
            "\n",
            "occupancy_data.zip  100%[===================>] 327.84K  1.24MB/s    in 0.3s    \n",
            "\n",
            "2020-12-24 20:36:03 (1.24 MB/s) - ‘occupancy_data.zip’ saved [335713/335713]\n",
            "\n",
            "Archive:  occupancy_data.zip\n",
            "  inflating: datatest.txt            \n",
            "  inflating: datatest2.txt           \n",
            "  inflating: datatraining.txt        \n"
          ],
          "name": "stdout"
        }
      ]
    },
    {
      "cell_type": "code",
      "metadata": {
        "id": "hxe_nlAVeD3a"
      },
      "source": [
        "train = pd.read_table('datatraining.txt', delimiter=',')\r\n",
        "test = pd.read_table('datatest.txt', delimiter=',')"
      ],
      "execution_count": 5,
      "outputs": []
    },
    {
      "cell_type": "code",
      "metadata": {
        "colab": {
          "base_uri": "https://localhost:8080/",
          "height": 246
        },
        "id": "XhdClufxek74",
        "outputId": "03f3b575-8067-492a-81f8-65ac166a7646"
      },
      "source": [
        "print(f'Size = {len(train)}')\r\n",
        "print('1 sum = ', sum(train['Occupancy'] == 1))\r\n",
        "print('0 sum = ', sum(train['Occupancy'] == 0))\r\n",
        "train.head()"
      ],
      "execution_count": 6,
      "outputs": [
        {
          "output_type": "stream",
          "text": [
            "Size = 8143\n",
            "1 sum =  1729\n",
            "0 sum =  6414\n"
          ],
          "name": "stdout"
        },
        {
          "output_type": "execute_result",
          "data": {
            "text/html": [
              "<div>\n",
              "<style scoped>\n",
              "    .dataframe tbody tr th:only-of-type {\n",
              "        vertical-align: middle;\n",
              "    }\n",
              "\n",
              "    .dataframe tbody tr th {\n",
              "        vertical-align: top;\n",
              "    }\n",
              "\n",
              "    .dataframe thead th {\n",
              "        text-align: right;\n",
              "    }\n",
              "</style>\n",
              "<table border=\"1\" class=\"dataframe\">\n",
              "  <thead>\n",
              "    <tr style=\"text-align: right;\">\n",
              "      <th></th>\n",
              "      <th>date</th>\n",
              "      <th>Temperature</th>\n",
              "      <th>Humidity</th>\n",
              "      <th>Light</th>\n",
              "      <th>CO2</th>\n",
              "      <th>HumidityRatio</th>\n",
              "      <th>Occupancy</th>\n",
              "    </tr>\n",
              "  </thead>\n",
              "  <tbody>\n",
              "    <tr>\n",
              "      <th>1</th>\n",
              "      <td>2015-02-04 17:51:00</td>\n",
              "      <td>23.18</td>\n",
              "      <td>27.2720</td>\n",
              "      <td>426.0</td>\n",
              "      <td>721.25</td>\n",
              "      <td>0.004793</td>\n",
              "      <td>1</td>\n",
              "    </tr>\n",
              "    <tr>\n",
              "      <th>2</th>\n",
              "      <td>2015-02-04 17:51:59</td>\n",
              "      <td>23.15</td>\n",
              "      <td>27.2675</td>\n",
              "      <td>429.5</td>\n",
              "      <td>714.00</td>\n",
              "      <td>0.004783</td>\n",
              "      <td>1</td>\n",
              "    </tr>\n",
              "    <tr>\n",
              "      <th>3</th>\n",
              "      <td>2015-02-04 17:53:00</td>\n",
              "      <td>23.15</td>\n",
              "      <td>27.2450</td>\n",
              "      <td>426.0</td>\n",
              "      <td>713.50</td>\n",
              "      <td>0.004779</td>\n",
              "      <td>1</td>\n",
              "    </tr>\n",
              "    <tr>\n",
              "      <th>4</th>\n",
              "      <td>2015-02-04 17:54:00</td>\n",
              "      <td>23.15</td>\n",
              "      <td>27.2000</td>\n",
              "      <td>426.0</td>\n",
              "      <td>708.25</td>\n",
              "      <td>0.004772</td>\n",
              "      <td>1</td>\n",
              "    </tr>\n",
              "    <tr>\n",
              "      <th>5</th>\n",
              "      <td>2015-02-04 17:55:00</td>\n",
              "      <td>23.10</td>\n",
              "      <td>27.2000</td>\n",
              "      <td>426.0</td>\n",
              "      <td>704.50</td>\n",
              "      <td>0.004757</td>\n",
              "      <td>1</td>\n",
              "    </tr>\n",
              "  </tbody>\n",
              "</table>\n",
              "</div>"
            ],
            "text/plain": [
              "                  date  Temperature  Humidity  ...     CO2  HumidityRatio  Occupancy\n",
              "1  2015-02-04 17:51:00        23.18   27.2720  ...  721.25       0.004793          1\n",
              "2  2015-02-04 17:51:59        23.15   27.2675  ...  714.00       0.004783          1\n",
              "3  2015-02-04 17:53:00        23.15   27.2450  ...  713.50       0.004779          1\n",
              "4  2015-02-04 17:54:00        23.15   27.2000  ...  708.25       0.004772          1\n",
              "5  2015-02-04 17:55:00        23.10   27.2000  ...  704.50       0.004757          1\n",
              "\n",
              "[5 rows x 7 columns]"
            ]
          },
          "metadata": {
            "tags": []
          },
          "execution_count": 6
        }
      ]
    },
    {
      "cell_type": "code",
      "metadata": {
        "colab": {
          "base_uri": "https://localhost:8080/",
          "height": 246
        },
        "id": "FaBgRwllV8e1",
        "outputId": "3b670f03-518e-4a66-87b7-5896dc8221ef"
      },
      "source": [
        "print(f'Size = {len(test)}')\r\n",
        "print('1 sum = ', sum(test['Occupancy'] == 1))\r\n",
        "print('0 sum = ', sum(test['Occupancy'] == 0))\r\n",
        "test.head()"
      ],
      "execution_count": 7,
      "outputs": [
        {
          "output_type": "stream",
          "text": [
            "Size = 2665\n",
            "1 sum =  972\n",
            "0 sum =  1693\n"
          ],
          "name": "stdout"
        },
        {
          "output_type": "execute_result",
          "data": {
            "text/html": [
              "<div>\n",
              "<style scoped>\n",
              "    .dataframe tbody tr th:only-of-type {\n",
              "        vertical-align: middle;\n",
              "    }\n",
              "\n",
              "    .dataframe tbody tr th {\n",
              "        vertical-align: top;\n",
              "    }\n",
              "\n",
              "    .dataframe thead th {\n",
              "        text-align: right;\n",
              "    }\n",
              "</style>\n",
              "<table border=\"1\" class=\"dataframe\">\n",
              "  <thead>\n",
              "    <tr style=\"text-align: right;\">\n",
              "      <th></th>\n",
              "      <th>date</th>\n",
              "      <th>Temperature</th>\n",
              "      <th>Humidity</th>\n",
              "      <th>Light</th>\n",
              "      <th>CO2</th>\n",
              "      <th>HumidityRatio</th>\n",
              "      <th>Occupancy</th>\n",
              "    </tr>\n",
              "  </thead>\n",
              "  <tbody>\n",
              "    <tr>\n",
              "      <th>140</th>\n",
              "      <td>2015-02-02 14:19:00</td>\n",
              "      <td>23.7000</td>\n",
              "      <td>26.272</td>\n",
              "      <td>585.200000</td>\n",
              "      <td>749.200000</td>\n",
              "      <td>0.004764</td>\n",
              "      <td>1</td>\n",
              "    </tr>\n",
              "    <tr>\n",
              "      <th>141</th>\n",
              "      <td>2015-02-02 14:19:59</td>\n",
              "      <td>23.7180</td>\n",
              "      <td>26.290</td>\n",
              "      <td>578.400000</td>\n",
              "      <td>760.400000</td>\n",
              "      <td>0.004773</td>\n",
              "      <td>1</td>\n",
              "    </tr>\n",
              "    <tr>\n",
              "      <th>142</th>\n",
              "      <td>2015-02-02 14:21:00</td>\n",
              "      <td>23.7300</td>\n",
              "      <td>26.230</td>\n",
              "      <td>572.666667</td>\n",
              "      <td>769.666667</td>\n",
              "      <td>0.004765</td>\n",
              "      <td>1</td>\n",
              "    </tr>\n",
              "    <tr>\n",
              "      <th>143</th>\n",
              "      <td>2015-02-02 14:22:00</td>\n",
              "      <td>23.7225</td>\n",
              "      <td>26.125</td>\n",
              "      <td>493.750000</td>\n",
              "      <td>774.750000</td>\n",
              "      <td>0.004744</td>\n",
              "      <td>1</td>\n",
              "    </tr>\n",
              "    <tr>\n",
              "      <th>144</th>\n",
              "      <td>2015-02-02 14:23:00</td>\n",
              "      <td>23.7540</td>\n",
              "      <td>26.200</td>\n",
              "      <td>488.600000</td>\n",
              "      <td>779.000000</td>\n",
              "      <td>0.004767</td>\n",
              "      <td>1</td>\n",
              "    </tr>\n",
              "  </tbody>\n",
              "</table>\n",
              "</div>"
            ],
            "text/plain": [
              "                    date  Temperature  ...  HumidityRatio  Occupancy\n",
              "140  2015-02-02 14:19:00      23.7000  ...       0.004764          1\n",
              "141  2015-02-02 14:19:59      23.7180  ...       0.004773          1\n",
              "142  2015-02-02 14:21:00      23.7300  ...       0.004765          1\n",
              "143  2015-02-02 14:22:00      23.7225  ...       0.004744          1\n",
              "144  2015-02-02 14:23:00      23.7540  ...       0.004767          1\n",
              "\n",
              "[5 rows x 7 columns]"
            ]
          },
          "metadata": {
            "tags": []
          },
          "execution_count": 7
        }
      ]
    },
    {
      "cell_type": "markdown",
      "metadata": {
        "id": "AuFogz1Qbuo8"
      },
      "source": [
        "# Features"
      ]
    },
    {
      "cell_type": "code",
      "metadata": {
        "id": "xwWdhYJaq04Q"
      },
      "source": [
        "import calendar\r\n",
        "features = train.iloc[:, 1:]\r\n",
        "features['DayOfWeek'] = train['date'].apply(lambda x: calendar.weekday(int(x[:4]), int(x[5:7]), int(x[8 :10])))\r\n",
        "features['hour'] = train['date'].apply(lambda x: int(x[11:13]))\r\n",
        "features['minutes'] = train['date'].apply(lambda x: int(x[14:16]))\r\n",
        "del features['Occupancy']\r\n",
        "features['Occupancy'] = train['Occupancy']"
      ],
      "execution_count": 8,
      "outputs": []
    },
    {
      "cell_type": "code",
      "metadata": {
        "colab": {
          "base_uri": "https://localhost:8080/",
          "height": 195
        },
        "id": "jNg9seSeq5rF",
        "outputId": "39aec9cc-848f-47fd-e3d4-38e9907dcfa9"
      },
      "source": [
        "features.head()"
      ],
      "execution_count": 9,
      "outputs": [
        {
          "output_type": "execute_result",
          "data": {
            "text/html": [
              "<div>\n",
              "<style scoped>\n",
              "    .dataframe tbody tr th:only-of-type {\n",
              "        vertical-align: middle;\n",
              "    }\n",
              "\n",
              "    .dataframe tbody tr th {\n",
              "        vertical-align: top;\n",
              "    }\n",
              "\n",
              "    .dataframe thead th {\n",
              "        text-align: right;\n",
              "    }\n",
              "</style>\n",
              "<table border=\"1\" class=\"dataframe\">\n",
              "  <thead>\n",
              "    <tr style=\"text-align: right;\">\n",
              "      <th></th>\n",
              "      <th>Temperature</th>\n",
              "      <th>Humidity</th>\n",
              "      <th>Light</th>\n",
              "      <th>CO2</th>\n",
              "      <th>HumidityRatio</th>\n",
              "      <th>DayOfWeek</th>\n",
              "      <th>hour</th>\n",
              "      <th>minutes</th>\n",
              "      <th>Occupancy</th>\n",
              "    </tr>\n",
              "  </thead>\n",
              "  <tbody>\n",
              "    <tr>\n",
              "      <th>1</th>\n",
              "      <td>23.18</td>\n",
              "      <td>27.2720</td>\n",
              "      <td>426.0</td>\n",
              "      <td>721.25</td>\n",
              "      <td>0.004793</td>\n",
              "      <td>2</td>\n",
              "      <td>17</td>\n",
              "      <td>51</td>\n",
              "      <td>1</td>\n",
              "    </tr>\n",
              "    <tr>\n",
              "      <th>2</th>\n",
              "      <td>23.15</td>\n",
              "      <td>27.2675</td>\n",
              "      <td>429.5</td>\n",
              "      <td>714.00</td>\n",
              "      <td>0.004783</td>\n",
              "      <td>2</td>\n",
              "      <td>17</td>\n",
              "      <td>51</td>\n",
              "      <td>1</td>\n",
              "    </tr>\n",
              "    <tr>\n",
              "      <th>3</th>\n",
              "      <td>23.15</td>\n",
              "      <td>27.2450</td>\n",
              "      <td>426.0</td>\n",
              "      <td>713.50</td>\n",
              "      <td>0.004779</td>\n",
              "      <td>2</td>\n",
              "      <td>17</td>\n",
              "      <td>53</td>\n",
              "      <td>1</td>\n",
              "    </tr>\n",
              "    <tr>\n",
              "      <th>4</th>\n",
              "      <td>23.15</td>\n",
              "      <td>27.2000</td>\n",
              "      <td>426.0</td>\n",
              "      <td>708.25</td>\n",
              "      <td>0.004772</td>\n",
              "      <td>2</td>\n",
              "      <td>17</td>\n",
              "      <td>54</td>\n",
              "      <td>1</td>\n",
              "    </tr>\n",
              "    <tr>\n",
              "      <th>5</th>\n",
              "      <td>23.10</td>\n",
              "      <td>27.2000</td>\n",
              "      <td>426.0</td>\n",
              "      <td>704.50</td>\n",
              "      <td>0.004757</td>\n",
              "      <td>2</td>\n",
              "      <td>17</td>\n",
              "      <td>55</td>\n",
              "      <td>1</td>\n",
              "    </tr>\n",
              "  </tbody>\n",
              "</table>\n",
              "</div>"
            ],
            "text/plain": [
              "   Temperature  Humidity  Light     CO2  ...  DayOfWeek  hour  minutes  Occupancy\n",
              "1        23.18   27.2720  426.0  721.25  ...          2    17       51          1\n",
              "2        23.15   27.2675  429.5  714.00  ...          2    17       51          1\n",
              "3        23.15   27.2450  426.0  713.50  ...          2    17       53          1\n",
              "4        23.15   27.2000  426.0  708.25  ...          2    17       54          1\n",
              "5        23.10   27.2000  426.0  704.50  ...          2    17       55          1\n",
              "\n",
              "[5 rows x 9 columns]"
            ]
          },
          "metadata": {
            "tags": []
          },
          "execution_count": 9
        }
      ]
    },
    {
      "cell_type": "code",
      "metadata": {
        "colab": {
          "base_uri": "https://localhost:8080/",
          "height": 284
        },
        "id": "W2Pi2TrdEBLC",
        "outputId": "52989d83-85d9-4e93-c7e5-c2cf935a15f3"
      },
      "source": [
        "features.describe()"
      ],
      "execution_count": 10,
      "outputs": [
        {
          "output_type": "execute_result",
          "data": {
            "text/html": [
              "<div>\n",
              "<style scoped>\n",
              "    .dataframe tbody tr th:only-of-type {\n",
              "        vertical-align: middle;\n",
              "    }\n",
              "\n",
              "    .dataframe tbody tr th {\n",
              "        vertical-align: top;\n",
              "    }\n",
              "\n",
              "    .dataframe thead th {\n",
              "        text-align: right;\n",
              "    }\n",
              "</style>\n",
              "<table border=\"1\" class=\"dataframe\">\n",
              "  <thead>\n",
              "    <tr style=\"text-align: right;\">\n",
              "      <th></th>\n",
              "      <th>Temperature</th>\n",
              "      <th>Humidity</th>\n",
              "      <th>Light</th>\n",
              "      <th>CO2</th>\n",
              "      <th>HumidityRatio</th>\n",
              "      <th>DayOfWeek</th>\n",
              "      <th>hour</th>\n",
              "      <th>minutes</th>\n",
              "      <th>Occupancy</th>\n",
              "    </tr>\n",
              "  </thead>\n",
              "  <tbody>\n",
              "    <tr>\n",
              "      <th>count</th>\n",
              "      <td>8143.000000</td>\n",
              "      <td>8143.000000</td>\n",
              "      <td>8143.000000</td>\n",
              "      <td>8143.000000</td>\n",
              "      <td>8143.000000</td>\n",
              "      <td>8143.000000</td>\n",
              "      <td>8143.000000</td>\n",
              "      <td>8143.000000</td>\n",
              "      <td>8143.000000</td>\n",
              "    </tr>\n",
              "    <tr>\n",
              "      <th>mean</th>\n",
              "      <td>20.619084</td>\n",
              "      <td>25.731507</td>\n",
              "      <td>119.519375</td>\n",
              "      <td>606.546243</td>\n",
              "      <td>0.003863</td>\n",
              "      <td>3.344222</td>\n",
              "      <td>11.390642</td>\n",
              "      <td>29.494290</td>\n",
              "      <td>0.212330</td>\n",
              "    </tr>\n",
              "    <tr>\n",
              "      <th>std</th>\n",
              "      <td>1.016916</td>\n",
              "      <td>5.531211</td>\n",
              "      <td>194.755805</td>\n",
              "      <td>314.320877</td>\n",
              "      <td>0.000852</td>\n",
              "      <td>2.067996</td>\n",
              "      <td>7.092195</td>\n",
              "      <td>17.314343</td>\n",
              "      <td>0.408982</td>\n",
              "    </tr>\n",
              "    <tr>\n",
              "      <th>min</th>\n",
              "      <td>19.000000</td>\n",
              "      <td>16.745000</td>\n",
              "      <td>0.000000</td>\n",
              "      <td>412.750000</td>\n",
              "      <td>0.002674</td>\n",
              "      <td>0.000000</td>\n",
              "      <td>0.000000</td>\n",
              "      <td>0.000000</td>\n",
              "      <td>0.000000</td>\n",
              "    </tr>\n",
              "    <tr>\n",
              "      <th>25%</th>\n",
              "      <td>19.700000</td>\n",
              "      <td>20.200000</td>\n",
              "      <td>0.000000</td>\n",
              "      <td>439.000000</td>\n",
              "      <td>0.003078</td>\n",
              "      <td>2.000000</td>\n",
              "      <td>5.000000</td>\n",
              "      <td>14.000000</td>\n",
              "      <td>0.000000</td>\n",
              "    </tr>\n",
              "    <tr>\n",
              "      <th>50%</th>\n",
              "      <td>20.390000</td>\n",
              "      <td>26.222500</td>\n",
              "      <td>0.000000</td>\n",
              "      <td>453.500000</td>\n",
              "      <td>0.003801</td>\n",
              "      <td>4.000000</td>\n",
              "      <td>11.000000</td>\n",
              "      <td>29.000000</td>\n",
              "      <td>0.000000</td>\n",
              "    </tr>\n",
              "    <tr>\n",
              "      <th>75%</th>\n",
              "      <td>21.390000</td>\n",
              "      <td>30.533333</td>\n",
              "      <td>256.375000</td>\n",
              "      <td>638.833333</td>\n",
              "      <td>0.004352</td>\n",
              "      <td>5.000000</td>\n",
              "      <td>18.000000</td>\n",
              "      <td>44.000000</td>\n",
              "      <td>0.000000</td>\n",
              "    </tr>\n",
              "    <tr>\n",
              "      <th>max</th>\n",
              "      <td>23.180000</td>\n",
              "      <td>39.117500</td>\n",
              "      <td>1546.333333</td>\n",
              "      <td>2028.500000</td>\n",
              "      <td>0.006476</td>\n",
              "      <td>6.000000</td>\n",
              "      <td>23.000000</td>\n",
              "      <td>59.000000</td>\n",
              "      <td>1.000000</td>\n",
              "    </tr>\n",
              "  </tbody>\n",
              "</table>\n",
              "</div>"
            ],
            "text/plain": [
              "       Temperature     Humidity  ...      minutes    Occupancy\n",
              "count  8143.000000  8143.000000  ...  8143.000000  8143.000000\n",
              "mean     20.619084    25.731507  ...    29.494290     0.212330\n",
              "std       1.016916     5.531211  ...    17.314343     0.408982\n",
              "min      19.000000    16.745000  ...     0.000000     0.000000\n",
              "25%      19.700000    20.200000  ...    14.000000     0.000000\n",
              "50%      20.390000    26.222500  ...    29.000000     0.000000\n",
              "75%      21.390000    30.533333  ...    44.000000     0.000000\n",
              "max      23.180000    39.117500  ...    59.000000     1.000000\n",
              "\n",
              "[8 rows x 9 columns]"
            ]
          },
          "metadata": {
            "tags": []
          },
          "execution_count": 10
        }
      ]
    },
    {
      "cell_type": "code",
      "metadata": {
        "colab": {
          "base_uri": "https://localhost:8080/",
          "height": 877
        },
        "id": "GrSkHrw1q7v5",
        "outputId": "b668b682-d12d-4c03-d052-fec380705c08"
      },
      "source": [
        "fig, axes = plt.subplots(nrows=4, ncols=2, figsize=(10, 15))\r\n",
        "for idx, feature in enumerate(features.columns[:-1]):\r\n",
        "    features.plot(feature, \"Occupancy\", subplots=True, kind=\"scatter\", ax=axes[idx // 2, idx % 2])"
      ],
      "execution_count": 11,
      "outputs": [
        {
          "output_type": "display_data",
          "data": {
            "image/png": "[encoded data removed]",
            "text/plain": [
              "<Figure size 720x1080 with 8 Axes>"
            ]
          },
          "metadata": {
            "tags": [],
            "needs_background": "light"
          }
        }
      ]
    },
    {
      "cell_type": "code",
      "metadata": {
        "colab": {
          "base_uri": "https://localhost:8080/",
          "height": 284
        },
        "id": "1tLUK9ymuF-V",
        "outputId": "e62f180c-a8eb-49a4-9685-4557f45586ea"
      },
      "source": [
        "features.iloc[:, :-1].corr()"
      ],
      "execution_count": 12,
      "outputs": [
        {
          "output_type": "execute_result",
          "data": {
            "text/html": [
              "<div>\n",
              "<style scoped>\n",
              "    .dataframe tbody tr th:only-of-type {\n",
              "        vertical-align: middle;\n",
              "    }\n",
              "\n",
              "    .dataframe tbody tr th {\n",
              "        vertical-align: top;\n",
              "    }\n",
              "\n",
              "    .dataframe thead th {\n",
              "        text-align: right;\n",
              "    }\n",
              "</style>\n",
              "<table border=\"1\" class=\"dataframe\">\n",
              "  <thead>\n",
              "    <tr style=\"text-align: right;\">\n",
              "      <th></th>\n",
              "      <th>Temperature</th>\n",
              "      <th>Humidity</th>\n",
              "      <th>Light</th>\n",
              "      <th>CO2</th>\n",
              "      <th>HumidityRatio</th>\n",
              "      <th>DayOfWeek</th>\n",
              "      <th>hour</th>\n",
              "      <th>minutes</th>\n",
              "    </tr>\n",
              "  </thead>\n",
              "  <tbody>\n",
              "    <tr>\n",
              "      <th>Temperature</th>\n",
              "      <td>1.000000</td>\n",
              "      <td>-0.141759</td>\n",
              "      <td>0.649942</td>\n",
              "      <td>0.559894</td>\n",
              "      <td>0.151762</td>\n",
              "      <td>-0.236655</td>\n",
              "      <td>0.260361</td>\n",
              "      <td>-0.003677</td>\n",
              "    </tr>\n",
              "    <tr>\n",
              "      <th>Humidity</th>\n",
              "      <td>-0.141759</td>\n",
              "      <td>1.000000</td>\n",
              "      <td>0.037828</td>\n",
              "      <td>0.439023</td>\n",
              "      <td>0.955198</td>\n",
              "      <td>-0.456780</td>\n",
              "      <td>0.017134</td>\n",
              "      <td>-0.003542</td>\n",
              "    </tr>\n",
              "    <tr>\n",
              "      <th>Light</th>\n",
              "      <td>0.649942</td>\n",
              "      <td>0.037828</td>\n",
              "      <td>1.000000</td>\n",
              "      <td>0.664022</td>\n",
              "      <td>0.230420</td>\n",
              "      <td>-0.160210</td>\n",
              "      <td>0.084507</td>\n",
              "      <td>0.024375</td>\n",
              "    </tr>\n",
              "    <tr>\n",
              "      <th>CO2</th>\n",
              "      <td>0.559894</td>\n",
              "      <td>0.439023</td>\n",
              "      <td>0.664022</td>\n",
              "      <td>1.000000</td>\n",
              "      <td>0.626556</td>\n",
              "      <td>-0.472879</td>\n",
              "      <td>0.209669</td>\n",
              "      <td>-0.002829</td>\n",
              "    </tr>\n",
              "    <tr>\n",
              "      <th>HumidityRatio</th>\n",
              "      <td>0.151762</td>\n",
              "      <td>0.955198</td>\n",
              "      <td>0.230420</td>\n",
              "      <td>0.626556</td>\n",
              "      <td>1.000000</td>\n",
              "      <td>-0.537909</td>\n",
              "      <td>0.096271</td>\n",
              "      <td>-0.004677</td>\n",
              "    </tr>\n",
              "    <tr>\n",
              "      <th>DayOfWeek</th>\n",
              "      <td>-0.236655</td>\n",
              "      <td>-0.456780</td>\n",
              "      <td>-0.160210</td>\n",
              "      <td>-0.472879</td>\n",
              "      <td>-0.537909</td>\n",
              "      <td>1.000000</td>\n",
              "      <td>0.044140</td>\n",
              "      <td>0.002602</td>\n",
              "    </tr>\n",
              "    <tr>\n",
              "      <th>hour</th>\n",
              "      <td>0.260361</td>\n",
              "      <td>0.017134</td>\n",
              "      <td>0.084507</td>\n",
              "      <td>0.209669</td>\n",
              "      <td>0.096271</td>\n",
              "      <td>0.044140</td>\n",
              "      <td>1.000000</td>\n",
              "      <td>0.003630</td>\n",
              "    </tr>\n",
              "    <tr>\n",
              "      <th>minutes</th>\n",
              "      <td>-0.003677</td>\n",
              "      <td>-0.003542</td>\n",
              "      <td>0.024375</td>\n",
              "      <td>-0.002829</td>\n",
              "      <td>-0.004677</td>\n",
              "      <td>0.002602</td>\n",
              "      <td>0.003630</td>\n",
              "      <td>1.000000</td>\n",
              "    </tr>\n",
              "  </tbody>\n",
              "</table>\n",
              "</div>"
            ],
            "text/plain": [
              "               Temperature  Humidity     Light  ...  DayOfWeek      hour   minutes\n",
              "Temperature       1.000000 -0.141759  0.649942  ...  -0.236655  0.260361 -0.003677\n",
              "Humidity         -0.141759  1.000000  0.037828  ...  -0.456780  0.017134 -0.003542\n",
              "Light             0.649942  0.037828  1.000000  ...  -0.160210  0.084507  0.024375\n",
              "CO2               0.559894  0.439023  0.664022  ...  -0.472879  0.209669 -0.002829\n",
              "HumidityRatio     0.151762  0.955198  0.230420  ...  -0.537909  0.096271 -0.004677\n",
              "DayOfWeek        -0.236655 -0.456780 -0.160210  ...   1.000000  0.044140  0.002602\n",
              "hour              0.260361  0.017134  0.084507  ...   0.044140  1.000000  0.003630\n",
              "minutes          -0.003677 -0.003542  0.024375  ...   0.002602  0.003630  1.000000\n",
              "\n",
              "[8 rows x 8 columns]"
            ]
          },
          "metadata": {
            "tags": []
          },
          "execution_count": 12
        }
      ]
    },
    {
      "cell_type": "code",
      "metadata": {
        "colab": {
          "base_uri": "https://localhost:8080/"
        },
        "id": "dZNdplQfuVai",
        "outputId": "8ba25c2f-07e3-4ade-c163-1a013923c352"
      },
      "source": [
        "features.corrwith(features['Occupancy'])"
      ],
      "execution_count": 13,
      "outputs": [
        {
          "output_type": "execute_result",
          "data": {
            "text/plain": [
              "Temperature      0.538220\n",
              "Humidity         0.132964\n",
              "Light            0.907352\n",
              "CO2              0.712235\n",
              "HumidityRatio    0.300282\n",
              "DayOfWeek       -0.251973\n",
              "hour             0.079630\n",
              "minutes          0.015929\n",
              "Occupancy        1.000000\n",
              "dtype: float64"
            ]
          },
          "metadata": {
            "tags": []
          },
          "execution_count": 13
        }
      ]
    },
    {
      "cell_type": "code",
      "metadata": {
        "colab": {
          "base_uri": "https://localhost:8080/",
          "height": 744
        },
        "id": "z4iwqdq2udjB",
        "outputId": "a71edbf1-3464-433e-88a6-7eae7faf0141"
      },
      "source": [
        "\r\n",
        "from pandas import read_csv\r\n",
        "from matplotlib import pyplot\r\n",
        "\r\n",
        "data1 = read_csv('datatest.txt', header=0, index_col=1, parse_dates=True, squeeze=True)\r\n",
        "data2 = read_csv('datatraining.txt', header=0, index_col=1, parse_dates=True, squeeze=True)\r\n",
        "\r\n",
        "n_features = data1.values.shape[1]\r\n",
        "pyplot.figure(figsize = (20, 15))\r\n",
        "for i in range(1, n_features):\r\n",
        "\r\n",
        "\tpyplot.subplot(n_features, 1, i)\r\n",
        "\r\n",
        "\tpyplot.plot(data1.index, data1.values[:, i], label = 'test')\r\n",
        "\tpyplot.plot(data2.index, data2.values[:, i], label = 'train')\r\n",
        "  \r\n",
        "\tpyplot.title(data1.columns[i], y=0.5, loc='right')\r\n",
        "\r\n",
        "pyplot.legend()  \r\n",
        "pyplot.show()\r\n",
        "\r\n"
      ],
      "execution_count": 35,
      "outputs": [
        {
          "output_type": "display_data",
          "data": {
            "image/png": "[encoded data removed]",
            "text/plain": [
              "<Figure size 1440x1080 with 6 Axes>"
            ]
          },
          "metadata": {
            "tags": [],
            "needs_background": "light"
          }
        }
      ]
    },
    {
      "cell_type": "markdown",
      "metadata": {
        "id": "U_BvZBnURAEk"
      },
      "source": [
        "# Scaling"
      ]
    },
    {
      "cell_type": "code",
      "metadata": {
        "id": "OXSvzakiA2gg"
      },
      "source": [
        "train = pd.read_table('datatraining.txt', delimiter=',')\r\n",
        "test = pd.read_table('datatest.txt', delimiter=',')"
      ],
      "execution_count": 36,
      "outputs": []
    },
    {
      "cell_type": "code",
      "metadata": {
        "id": "udIJw_4LnN9v"
      },
      "source": [
        "from sklearn.preprocessing import StandardScaler\r\n",
        "columns_to_scale = ['Temperature','Humidity','Light','CO2','HumidityRatio']\r\n",
        "scaler = StandardScaler().fit(train[columns_to_scale].to_numpy())\r\n",
        "train.loc[:,columns_to_scale] = scaler.transform(train[columns_to_scale].to_numpy())"
      ],
      "execution_count": 37,
      "outputs": []
    },
    {
      "cell_type": "code",
      "metadata": {
        "id": "w-XJMHlxTDyD"
      },
      "source": [
        "scaler = StandardScaler().fit(test[columns_to_scale].to_numpy())\r\n",
        "test.loc[:,columns_to_scale] = scaler.transform(test[columns_to_scale].to_numpy())"
      ],
      "execution_count": 38,
      "outputs": []
    },
    {
      "cell_type": "code",
      "metadata": {
        "id": "MuB_ZS58Xd0i"
      },
      "source": [
        "X, y = train.iloc[:, 1:-1].to_numpy(), train.iloc[:, -1].to_numpy()\r\n",
        "X_TEST, y_TEST = test.iloc[:, 1:-1].to_numpy(), test.iloc[:, -1].to_numpy()"
      ],
      "execution_count": 45,
      "outputs": []
    },
    {
      "cell_type": "code",
      "metadata": {
        "colab": {
          "base_uri": "https://localhost:8080/",
          "height": 195
        },
        "id": "_TT19x065UTZ",
        "outputId": "2023f902-af7f-4814-a093-531852587e47"
      },
      "source": [
        "train.head()"
      ],
      "execution_count": 46,
      "outputs": [
        {
          "output_type": "execute_result",
          "data": {
            "text/html": [
              "<div>\n",
              "<style scoped>\n",
              "    .dataframe tbody tr th:only-of-type {\n",
              "        vertical-align: middle;\n",
              "    }\n",
              "\n",
              "    .dataframe tbody tr th {\n",
              "        vertical-align: top;\n",
              "    }\n",
              "\n",
              "    .dataframe thead th {\n",
              "        text-align: right;\n",
              "    }\n",
              "</style>\n",
              "<table border=\"1\" class=\"dataframe\">\n",
              "  <thead>\n",
              "    <tr style=\"text-align: right;\">\n",
              "      <th></th>\n",
              "      <th>date</th>\n",
              "      <th>Temperature</th>\n",
              "      <th>Humidity</th>\n",
              "      <th>Light</th>\n",
              "      <th>CO2</th>\n",
              "      <th>HumidityRatio</th>\n",
              "      <th>Occupancy</th>\n",
              "    </tr>\n",
              "  </thead>\n",
              "  <tbody>\n",
              "    <tr>\n",
              "      <th>1</th>\n",
              "      <td>2015-02-04 17:51:00</td>\n",
              "      <td>2.518470</td>\n",
              "      <td>0.278526</td>\n",
              "      <td>1.573763</td>\n",
              "      <td>0.364948</td>\n",
              "      <td>1.091757</td>\n",
              "      <td>1</td>\n",
              "    </tr>\n",
              "    <tr>\n",
              "      <th>2</th>\n",
              "      <td>2015-02-04 17:51:59</td>\n",
              "      <td>2.488967</td>\n",
              "      <td>0.277713</td>\n",
              "      <td>1.591735</td>\n",
              "      <td>0.341881</td>\n",
              "      <td>1.080555</td>\n",
              "      <td>1</td>\n",
              "    </tr>\n",
              "    <tr>\n",
              "      <th>3</th>\n",
              "      <td>2015-02-04 17:53:00</td>\n",
              "      <td>2.488967</td>\n",
              "      <td>0.273645</td>\n",
              "      <td>1.573763</td>\n",
              "      <td>0.340290</td>\n",
              "      <td>1.075888</td>\n",
              "      <td>1</td>\n",
              "    </tr>\n",
              "    <tr>\n",
              "      <th>4</th>\n",
              "      <td>2015-02-04 17:54:00</td>\n",
              "      <td>2.488967</td>\n",
              "      <td>0.265508</td>\n",
              "      <td>1.573763</td>\n",
              "      <td>0.323587</td>\n",
              "      <td>1.066555</td>\n",
              "      <td>1</td>\n",
              "    </tr>\n",
              "    <tr>\n",
              "      <th>5</th>\n",
              "      <td>2015-02-04 17:55:00</td>\n",
              "      <td>2.439796</td>\n",
              "      <td>0.265508</td>\n",
              "      <td>1.573763</td>\n",
              "      <td>0.311655</td>\n",
              "      <td>1.049523</td>\n",
              "      <td>1</td>\n",
              "    </tr>\n",
              "  </tbody>\n",
              "</table>\n",
              "</div>"
            ],
            "text/plain": [
              "                  date  Temperature  ...  HumidityRatio  Occupancy\n",
              "1  2015-02-04 17:51:00     2.518470  ...       1.091757          1\n",
              "2  2015-02-04 17:51:59     2.488967  ...       1.080555          1\n",
              "3  2015-02-04 17:53:00     2.488967  ...       1.075888          1\n",
              "4  2015-02-04 17:54:00     2.488967  ...       1.066555          1\n",
              "5  2015-02-04 17:55:00     2.439796  ...       1.049523          1\n",
              "\n",
              "[5 rows x 7 columns]"
            ]
          },
          "metadata": {
            "tags": []
          },
          "execution_count": 46
        }
      ]
    },
    {
      "cell_type": "code",
      "metadata": {
        "colab": {
          "base_uri": "https://localhost:8080/",
          "height": 195
        },
        "id": "tXO-9xtNXkkH",
        "outputId": "226daa2f-0f28-4b7b-e1cd-97c8f87dc3d1"
      },
      "source": [
        "test.head()"
      ],
      "execution_count": 47,
      "outputs": [
        {
          "output_type": "execute_result",
          "data": {
            "text/html": [
              "<div>\n",
              "<style scoped>\n",
              "    .dataframe tbody tr th:only-of-type {\n",
              "        vertical-align: middle;\n",
              "    }\n",
              "\n",
              "    .dataframe tbody tr th {\n",
              "        vertical-align: top;\n",
              "    }\n",
              "\n",
              "    .dataframe thead th {\n",
              "        text-align: right;\n",
              "    }\n",
              "</style>\n",
              "<table border=\"1\" class=\"dataframe\">\n",
              "  <thead>\n",
              "    <tr style=\"text-align: right;\">\n",
              "      <th></th>\n",
              "      <th>date</th>\n",
              "      <th>Temperature</th>\n",
              "      <th>Humidity</th>\n",
              "      <th>Light</th>\n",
              "      <th>CO2</th>\n",
              "      <th>HumidityRatio</th>\n",
              "      <th>Occupancy</th>\n",
              "    </tr>\n",
              "  </thead>\n",
              "  <tbody>\n",
              "    <tr>\n",
              "      <th>140</th>\n",
              "      <td>2015-02-02 14:19:00</td>\n",
              "      <td>2.204762</td>\n",
              "      <td>0.376814</td>\n",
              "      <td>1.566862</td>\n",
              "      <td>0.106940</td>\n",
              "      <td>1.207540</td>\n",
              "      <td>1</td>\n",
              "    </tr>\n",
              "    <tr>\n",
              "      <th>141</th>\n",
              "      <td>2015-02-02 14:19:59</td>\n",
              "      <td>2.222275</td>\n",
              "      <td>0.384202</td>\n",
              "      <td>1.539680</td>\n",
              "      <td>0.145214</td>\n",
              "      <td>1.221461</td>\n",
              "      <td>1</td>\n",
              "    </tr>\n",
              "    <tr>\n",
              "      <th>142</th>\n",
              "      <td>2015-02-02 14:21:00</td>\n",
              "      <td>2.233950</td>\n",
              "      <td>0.359575</td>\n",
              "      <td>1.516762</td>\n",
              "      <td>0.176881</td>\n",
              "      <td>1.209161</td>\n",
              "      <td>1</td>\n",
              "    </tr>\n",
              "    <tr>\n",
              "      <th>143</th>\n",
              "      <td>2015-02-02 14:22:00</td>\n",
              "      <td>2.226653</td>\n",
              "      <td>0.316478</td>\n",
              "      <td>1.201302</td>\n",
              "      <td>0.194253</td>\n",
              "      <td>1.174140</td>\n",
              "      <td>1</td>\n",
              "    </tr>\n",
              "    <tr>\n",
              "      <th>144</th>\n",
              "      <td>2015-02-02 14:23:00</td>\n",
              "      <td>2.257300</td>\n",
              "      <td>0.347262</td>\n",
              "      <td>1.180715</td>\n",
              "      <td>0.208776</td>\n",
              "      <td>1.211522</td>\n",
              "      <td>1</td>\n",
              "    </tr>\n",
              "  </tbody>\n",
              "</table>\n",
              "</div>"
            ],
            "text/plain": [
              "                    date  Temperature  ...  HumidityRatio  Occupancy\n",
              "140  2015-02-02 14:19:00     2.204762  ...       1.207540          1\n",
              "141  2015-02-02 14:19:59     2.222275  ...       1.221461          1\n",
              "142  2015-02-02 14:21:00     2.233950  ...       1.209161          1\n",
              "143  2015-02-02 14:22:00     2.226653  ...       1.174140          1\n",
              "144  2015-02-02 14:23:00     2.257300  ...       1.211522          1\n",
              "\n",
              "[5 rows x 7 columns]"
            ]
          },
          "metadata": {
            "tags": []
          },
          "execution_count": 47
        }
      ]
    },
    {
      "cell_type": "markdown",
      "metadata": {
        "id": "0aewYqmdeHxO"
      },
      "source": [
        "# Grid Search"
      ]
    },
    {
      "cell_type": "code",
      "metadata": {
        "id": "7vwcdo-4tbhA",
        "colab": {
          "base_uri": "https://localhost:8080/"
        },
        "outputId": "749165fb-d896-4631-f5f7-aaf8273ab548"
      },
      "source": [
        "from sklearn.linear_model import LogisticRegression\r\n",
        "from sklearn.model_selection import GridSearchCV\r\n",
        "from sklearn.metrics import roc_auc_score\r\n",
        "param_grid = {'C': [0.01, 0.05, 0.1, 0.5, 1, 5, 10], 'penalty' : ['l1', 'l2']}\r\n",
        "estimator = LogisticRegression(class_weight='balanced')\r\n",
        "optimizer = GridSearchCV(estimator, param_grid)\r\n",
        "optimizer.fit(X, y)\r\n"
      ],
      "execution_count": 48,
      "outputs": [
        {
          "output_type": "stream",
          "text": [
            "/usr/local/lib/python3.6/dist-packages/sklearn/model_selection/_validation.py:536: FitFailedWarning: Estimator fit failed. The score on this train-test partition for these parameters will be set to nan. Details: \n",
            "ValueError: Solver lbfgs supports only 'l2' or 'none' penalties, got l1 penalty.\n",
            "\n",
            "  FitFailedWarning)\n",
            "/usr/local/lib/python3.6/dist-packages/sklearn/model_selection/_validation.py:536: FitFailedWarning: Estimator fit failed. The score on this train-test partition for these parameters will be set to nan. Details: \n",
            "ValueError: Solver lbfgs supports only 'l2' or 'none' penalties, got l1 penalty.\n",
            "\n",
            "  FitFailedWarning)\n",
            "/usr/local/lib/python3.6/dist-packages/sklearn/model_selection/_validation.py:536: FitFailedWarning: Estimator fit failed. The score on this train-test partition for these parameters will be set to nan. Details: \n",
            "ValueError: Solver lbfgs supports only 'l2' or 'none' penalties, got l1 penalty.\n",
            "\n",
            "  FitFailedWarning)\n",
            "/usr/local/lib/python3.6/dist-packages/sklearn/model_selection/_validation.py:536: FitFailedWarning: Estimator fit failed. The score on this train-test partition for these parameters will be set to nan. Details: \n",
            "ValueError: Solver lbfgs supports only 'l2' or 'none' penalties, got l1 penalty.\n",
            "\n",
            "  FitFailedWarning)\n",
            "/usr/local/lib/python3.6/dist-packages/sklearn/model_selection/_validation.py:536: FitFailedWarning: Estimator fit failed. The score on this train-test partition for these parameters will be set to nan. Details: \n",
            "ValueError: Solver lbfgs supports only 'l2' or 'none' penalties, got l1 penalty.\n",
            "\n",
            "  FitFailedWarning)\n",
            "/usr/local/lib/python3.6/dist-packages/sklearn/model_selection/_validation.py:536: FitFailedWarning: Estimator fit failed. The score on this train-test partition for these parameters will be set to nan. Details: \n",
            "ValueError: Solver lbfgs supports only 'l2' or 'none' penalties, got l1 penalty.\n",
            "\n",
            "  FitFailedWarning)\n",
            "/usr/local/lib/python3.6/dist-packages/sklearn/model_selection/_validation.py:536: FitFailedWarning: Estimator fit failed. The score on this train-test partition for these parameters will be set to nan. Details: \n",
            "ValueError: Solver lbfgs supports only 'l2' or 'none' penalties, got l1 penalty.\n",
            "\n",
            "  FitFailedWarning)\n"
          ],
          "name": "stderr"
        },
        {
          "output_type": "execute_result",
          "data": {
            "text/plain": [
              "GridSearchCV(cv=None, error_score=nan,\n",
              "             estimator=LogisticRegression(C=1.0, class_weight='balanced',\n",
              "                                          dual=False, fit_intercept=True,\n",
              "                                          intercept_scaling=1, l1_ratio=None,\n",
              "                                          max_iter=100, multi_class='auto',\n",
              "                                          n_jobs=None, penalty='l2',\n",
              "                                          random_state=None, solver='lbfgs',\n",
              "                                          tol=0.0001, verbose=0,\n",
              "                                          warm_start=False),\n",
              "             iid='deprecated', n_jobs=None,\n",
              "             param_grid={'C': [0.01, 0.05, 0.1, 0.5, 1, 5, 10],\n",
              "                         'penalty': ['l1', 'l2']},\n",
              "             pre_dispatch='2*n_jobs', refit=True, return_train_score=False,\n",
              "             scoring=None, verbose=0)"
            ]
          },
          "metadata": {
            "tags": []
          },
          "execution_count": 48
        }
      ]
    },
    {
      "cell_type": "code",
      "metadata": {
        "colab": {
          "base_uri": "https://localhost:8080/"
        },
        "id": "7GgdfH6qmOCc",
        "outputId": "602e8cdc-ce18-42ab-98e9-d50b8ebcaa9c"
      },
      "source": [
        "best_params_lgr = optimizer.best_params_\r\n",
        "print(best_params_lgr)"
      ],
      "execution_count": 49,
      "outputs": [
        {
          "output_type": "stream",
          "text": [
            "{'C': 1, 'penalty': 'l2'}\n"
          ],
          "name": "stdout"
        }
      ]
    },
    {
      "cell_type": "code",
      "metadata": {
        "colab": {
          "base_uri": "https://localhost:8080/"
        },
        "id": "gAVHpCrP1eSc",
        "outputId": "ba60c731-3fd7-4180-b02d-8e2d68fd16f2"
      },
      "source": [
        "from sklearn.ensemble import RandomForestClassifier\r\n",
        "param_grid = {'n_estimators': [20, 50, 100, 150, 200], 'max_depth' : [5,10,20,30,50,70]}\r\n",
        "estimator = RandomForestClassifier(class_weight='balanced')\r\n",
        "optimizer = GridSearchCV(estimator, param_grid)\r\n",
        "optimizer.fit(X, y)\r\n"
      ],
      "execution_count": 50,
      "outputs": [
        {
          "output_type": "execute_result",
          "data": {
            "text/plain": [
              "GridSearchCV(cv=None, error_score=nan,\n",
              "             estimator=RandomForestClassifier(bootstrap=True, ccp_alpha=0.0,\n",
              "                                              class_weight='balanced',\n",
              "                                              criterion='gini', max_depth=None,\n",
              "                                              max_features='auto',\n",
              "                                              max_leaf_nodes=None,\n",
              "                                              max_samples=None,\n",
              "                                              min_impurity_decrease=0.0,\n",
              "                                              min_impurity_split=None,\n",
              "                                              min_samples_leaf=1,\n",
              "                                              min_samples_split=2,\n",
              "                                              min_weight_fraction_leaf=0.0,\n",
              "                                              n_estimators=100, n_jobs=None,\n",
              "                                              oob_score=False,\n",
              "                                              random_state=None, verbose=0,\n",
              "                                              warm_start=False),\n",
              "             iid='deprecated', n_jobs=None,\n",
              "             param_grid={'max_depth': [5, 10, 20, 30, 50, 70],\n",
              "                         'n_estimators': [20, 50, 100, 150, 200]},\n",
              "             pre_dispatch='2*n_jobs', refit=True, return_train_score=False,\n",
              "             scoring=None, verbose=0)"
            ]
          },
          "metadata": {
            "tags": []
          },
          "execution_count": 50
        }
      ]
    },
    {
      "cell_type": "code",
      "metadata": {
        "colab": {
          "base_uri": "https://localhost:8080/"
        },
        "id": "rYfcfkc24SVe",
        "outputId": "c80020b0-b185-4942-900a-4e4af346c190"
      },
      "source": [
        "best_params_rf = optimizer.best_params_\r\n",
        "print(best_params_rf)"
      ],
      "execution_count": 51,
      "outputs": [
        {
          "output_type": "stream",
          "text": [
            "{'max_depth': 5, 'n_estimators': 50}\n"
          ],
          "name": "stdout"
        }
      ]
    },
    {
      "cell_type": "markdown",
      "metadata": {
        "id": "vnC9x3bK08F8"
      },
      "source": [
        "# Baseline"
      ]
    },
    {
      "cell_type": "code",
      "metadata": {
        "id": "jFegRYDY1ALN"
      },
      "source": [
        "from sklearn.metrics import roc_auc_score, precision_score, recall_score, f1_score\r\n",
        "\r\n",
        "def train_(clf, X_train, y_train, X_test, y_test):\r\n",
        "  clf.fit(X_train, y_train)\r\n",
        "  y_pred = clf.predict(X_test)\r\n",
        "  y_proba = clf.predict_proba(X_test)\r\n",
        "  return  precision_score(y_pred, y_test), recall_score(y_pred, y_test), f1_score(y_pred, y_test), roc_auc_score( y_test, y_proba[:,1])\r\n",
        "\r\n",
        "def test_(clf, X_test, y_test):\r\n",
        "  y_pred = clf.predict(X_test)\r\n",
        "  y_proba = clf.predict_proba(X_test)\r\n",
        "  print(classification_report(y_test, y_pred, digits = 4))\r\n",
        "  return precision_score(y_pred, y_test), recall_score(y_pred, y_test), f1_score(y_pred, y_test), roc_auc_score( y_test, y_proba[:,1]) \r\n"
      ],
      "execution_count": 54,
      "outputs": []
    },
    {
      "cell_type": "markdown",
      "metadata": {
        "id": "2XuPeMAdetKq"
      },
      "source": [
        "## Logistic Regression"
      ]
    },
    {
      "cell_type": "code",
      "metadata": {
        "colab": {
          "base_uri": "https://localhost:8080/"
        },
        "id": "cQdctN9KBC2L",
        "outputId": "a0a9208d-43a4-4447-85e5-43e40a558f79"
      },
      "source": [
        "from sklearn.model_selection import StratifiedShuffleSplit\r\n",
        "sss = StratifiedShuffleSplit(n_splits=5, test_size=0.3, random_state=42)\r\n",
        "f1_scores = []\r\n",
        "prec_scores = []\r\n",
        "recall_scores = []\r\n",
        "roc_auc_scores = []\r\n",
        "for train_index, test_index in sss.split(X, y):\r\n",
        "  X_train, X_test = X[train_index], X[test_index]\r\n",
        "  y_train, y_test = y[train_index], y[test_index]\r\n",
        "  prec, rec, f1, ru = train_(LogisticRegression(C = 1, penalty = 'l2' ), X_train, y_train, X_test, y_test)\r\n",
        "  prec_scores.append(prec)\r\n",
        "  recall_scores.append(rec)\r\n",
        "  f1_scores.append(f1)\r\n",
        "  roc_auc_scores.append(ru)\r\n",
        "\r\n",
        "print('TRAIN:')\r\n",
        "print(f'Precision = {np.mean(prec_scores)}')\r\n",
        "print(f'Recall = {np.mean(recall_scores)}')\r\n",
        "print(f'F1 = {np.mean(f1_scores)}')\r\n",
        "print(f'ROC_AUC = {np.mean(roc_auc_scores)}')\r\n",
        "\r\n",
        "clf_lr = LogisticRegression(C = 1, penalty = 'l2')\r\n",
        "clf_lr.fit(X,y)\r\n",
        "print(f\"TEST:\")\r\n",
        "test_prec, test_recall, test_f1, test_ru = test_(clf_lr, X_TEST, y_TEST)\r\n",
        "\r\n"
      ],
      "execution_count": 56,
      "outputs": [
        {
          "output_type": "stream",
          "text": [
            "TRAIN:\n",
            "Precision = 0.9872832369942197\n",
            "Recall = 0.9553089409223764\n",
            "F1 = 0.9710196261156714\n",
            "ROC_AUC = 0.9950514543000093\n",
            "TEST:\n",
            "              precision    recall  f1-score   support\n",
            "\n",
            "           0     0.8609    0.9870    0.9196      1693\n",
            "           1     0.9696    0.7222    0.8278       972\n",
            "\n",
            "    accuracy                         0.8904      2665\n",
            "   macro avg     0.9153    0.8546    0.8737      2665\n",
            "weighted avg     0.9005    0.8904    0.8862      2665\n",
            "\n"
          ],
          "name": "stdout"
        }
      ]
    },
    {
      "cell_type": "code",
      "metadata": {
        "colab": {
          "base_uri": "https://localhost:8080/"
        },
        "id": "cQWPGu6jteJv",
        "outputId": "dd34a33d-4f71-4c02-cc1e-1a91fcdde297"
      },
      "source": [
        "for name_feature, weight in zip(train.columns[1:6], clf_lr.coef_[0]):\r\n",
        "    \r\n",
        "    print(f'название признака: {name_feature} - вес:  {weight}')"
      ],
      "execution_count": 57,
      "outputs": [
        {
          "output_type": "stream",
          "text": [
            "название признака: Temperature - вес:  -1.2531112359576764\n",
            "название признака: Humidity - вес:  0.1924565547460842\n",
            "название признака: Light - вес:  3.913228119263064\n",
            "название признака: CO2 - вес:  1.8958514457036362\n",
            "название признака: HumidityRatio - вес:  -0.3946819866532173\n"
          ],
          "name": "stdout"
        }
      ]
    },
    {
      "cell_type": "markdown",
      "metadata": {
        "id": "KP-ni0UQe4Sd"
      },
      "source": [
        "## Random Forest"
      ]
    },
    {
      "cell_type": "code",
      "metadata": {
        "id": "I7FnNs1qr8RI",
        "colab": {
          "base_uri": "https://localhost:8080/"
        },
        "outputId": "90c25d92-82ee-4ff0-9aae-fe0440b1ec1e"
      },
      "source": [
        "from sklearn.model_selection import StratifiedShuffleSplit\r\n",
        "sss = StratifiedShuffleSplit(n_splits=5, test_size=0.3, random_state=42)\r\n",
        "f1_scores = []\r\n",
        "prec_scores = []\r\n",
        "recall_scores = []\r\n",
        "roc_auc_scores = []\r\n",
        "for train_index, test_index in sss.split(X, y):\r\n",
        "  X_train, X_test = X[train_index], X[test_index]\r\n",
        "  y_train, y_test = y[train_index], y[test_index]\r\n",
        "  prec, rec, f1, ru = train_(RandomForestClassifier(n_estimators = 100, max_depth = 100 ), X_train, y_train, X_test, y_test)\r\n",
        "  prec_scores.append(prec)\r\n",
        "  recall_scores.append(rec)\r\n",
        "  f1_scores.append(f1)\r\n",
        "  roc_auc_scores.append(ru)\r\n",
        "\r\n",
        "print('TRAIN:')\r\n",
        "print(f'Precision = {np.mean(prec_scores)}')\r\n",
        "print(f'Recall = {np.mean(recall_scores)}')\r\n",
        "print(f'F1 = {np.mean(f1_scores)}')\r\n",
        "print(f'ROC_AUC = {np.mean(roc_auc_scores)}')\r\n",
        "\r\n",
        "clf = RandomForestClassifier(n_estimators = 50, max_depth = 30 )\r\n",
        "clf.fit(X,y)\r\n",
        "print(f\"TEST:\")\r\n",
        "test_prec, test_recall, test_f1, test_ru = test_(clf, X_TEST, y_TEST)\r\n"
      ],
      "execution_count": 58,
      "outputs": [
        {
          "output_type": "stream",
          "text": [
            "TRAIN:\n",
            "Precision = 0.9861271676300577\n",
            "Recall = 0.9865350369152532\n",
            "F1 = 0.986321380306036\n",
            "ROC_AUC = 0.9990089689511654\n",
            "TEST:\n",
            "              precision    recall  f1-score   support\n",
            "\n",
            "           0     0.9543    0.9740    0.9640      1693\n",
            "           1     0.9530    0.9187    0.9356       972\n",
            "\n",
            "    accuracy                         0.9538      2665\n",
            "   macro avg     0.9537    0.9464    0.9498      2665\n",
            "weighted avg     0.9538    0.9538    0.9537      2665\n",
            "\n"
          ],
          "name": "stdout"
        }
      ]
    }
  ]
}